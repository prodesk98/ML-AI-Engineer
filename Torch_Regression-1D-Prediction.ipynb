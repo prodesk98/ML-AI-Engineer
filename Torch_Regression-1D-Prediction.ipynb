{
 "cells": [
  {
   "cell_type": "code",
   "id": "initial_id",
   "metadata": {
    "collapsed": true,
    "ExecuteTime": {
     "end_time": "2025-06-24T03:57:17.297918Z",
     "start_time": "2025-06-24T03:57:15.608583Z"
    }
   },
   "source": "import torch",
   "outputs": [],
   "execution_count": 1
  },
  {
   "metadata": {},
   "cell_type": "markdown",
   "source": [
    "$b=-1,w=2$\n",
    "\n",
    "$\\hat{y}=-1+2x$"
   ],
   "id": "fd56d2f0f340355d"
  },
  {
   "metadata": {
    "ExecuteTime": {
     "end_time": "2025-06-24T03:57:54.452378Z",
     "start_time": "2025-06-24T03:57:54.447485Z"
    }
   },
   "cell_type": "code",
   "source": [
    "w = torch.tensor(2.0, requires_grad=True)\n",
    "b = torch.tensor(-1.0, requires_grad=True)"
   ],
   "id": "68d939616f4baaf2",
   "outputs": [],
   "execution_count": 2
  },
  {
   "metadata": {
    "ExecuteTime": {
     "end_time": "2025-06-24T03:58:17.743584Z",
     "start_time": "2025-06-24T03:58:17.739709Z"
    }
   },
   "cell_type": "code",
   "source": [
    "def forward(x):\n",
    "    return w * x + b"
   ],
   "id": "1be9bee79a7d7bb1",
   "outputs": [],
   "execution_count": 3
  },
  {
   "metadata": {},
   "cell_type": "markdown",
   "source": [
    "$\\hat{y}=-1+2x$\n",
    "\n",
    "$\\hat{y}=-1+2(1)$"
   ],
   "id": "fb468046c2b20eb6"
  },
  {
   "metadata": {
    "ExecuteTime": {
     "end_time": "2025-06-24T04:02:59.852466Z",
     "start_time": "2025-06-24T04:02:59.846912Z"
    }
   },
   "cell_type": "code",
   "source": [
    "x_ = torch.tensor([[1.0]])\n",
    "y_hat = forward(x_)\n",
    "print(\"The prediction is:\", y_hat.item())"
   ],
   "id": "d464b0125b183687",
   "outputs": [
    {
     "name": "stdout",
     "output_type": "stream",
     "text": [
      "The prediction is: 1.0\n"
     ]
    }
   ],
   "execution_count": 8
  },
  {
   "metadata": {},
   "cell_type": "markdown",
   "source": "### Class Linear",
   "id": "d8d2cf3cfa01a956"
  },
  {
   "metadata": {
    "ExecuteTime": {
     "end_time": "2025-06-24T04:00:14.712880Z",
     "start_time": "2025-06-24T04:00:14.709312Z"
    }
   },
   "cell_type": "code",
   "source": "from torch.nn import Linear",
   "id": "70b8067767932707",
   "outputs": [],
   "execution_count": 5
  },
  {
   "metadata": {
    "ExecuteTime": {
     "end_time": "2025-06-24T04:00:18.991264Z",
     "start_time": "2025-06-24T04:00:18.979716Z"
    }
   },
   "cell_type": "code",
   "source": "torch.manual_seed(42)",
   "id": "5e704659fb5b9d89",
   "outputs": [
    {
     "data": {
      "text/plain": [
       "<torch._C.Generator at 0x79ce8c1457f0>"
      ]
     },
     "execution_count": 6,
     "metadata": {},
     "output_type": "execute_result"
    }
   ],
   "execution_count": 6
  },
  {
   "metadata": {
    "ExecuteTime": {
     "end_time": "2025-06-24T04:00:53.538371Z",
     "start_time": "2025-06-24T04:00:53.525890Z"
    }
   },
   "cell_type": "code",
   "source": [
    "lr = Linear(in_features=1, out_features=1, bias=True)\n",
    "print(\"Parameters of the model b:\", list(lr.parameters()))"
   ],
   "id": "7fdaccb806fc211f",
   "outputs": [
    {
     "name": "stdout",
     "output_type": "stream",
     "text": [
      "Parameters of the model b: [Parameter containing:\n",
      "tensor([[0.7645]], requires_grad=True), Parameter containing:\n",
      "tensor([0.8300], requires_grad=True)]\n"
     ]
    }
   ],
   "execution_count": 7
  },
  {
   "metadata": {
    "ExecuteTime": {
     "end_time": "2025-06-24T04:03:02.660424Z",
     "start_time": "2025-06-24T04:03:02.656010Z"
    }
   },
   "cell_type": "code",
   "source": [
    "from torch import nn\n",
    "\n",
    "class LR(nn.Module):\n",
    "    def __init__(self, input_size, output_size):\n",
    "        super(LR, self).__init__()\n",
    "        self.linear = Linear(input_size, output_size)\n",
    "\n",
    "    def forward(self, x):\n",
    "        return self.linear(x)"
   ],
   "id": "b245d17ae0a00fa1",
   "outputs": [],
   "execution_count": 9
  },
  {
   "metadata": {
    "ExecuteTime": {
     "end_time": "2025-06-24T04:04:00.914600Z",
     "start_time": "2025-06-24T04:04:00.907557Z"
    }
   },
   "cell_type": "code",
   "source": [
    "lr = LR(1, 1)\n",
    "print(\"Parameters of the model b:\", list(lr.parameters()))\n",
    "print(\"Linear Model: \", lr.linear)"
   ],
   "id": "b42312279a8d671a",
   "outputs": [
    {
     "name": "stdout",
     "output_type": "stream",
     "text": [
      "Parameters of the model b: [Parameter containing:\n",
      "tensor([[-0.4869]], requires_grad=True), Parameter containing:\n",
      "tensor([0.5873], requires_grad=True)]\n",
      "Linear Model:  Linear(in_features=1, out_features=1, bias=True)\n"
     ]
    }
   ],
   "execution_count": 15
  },
  {
   "metadata": {
    "ExecuteTime": {
     "end_time": "2025-06-24T04:04:01.406465Z",
     "start_time": "2025-06-24T04:04:01.402257Z"
    }
   },
   "cell_type": "code",
   "source": [
    "x = torch.tensor([[1.0]])\n",
    "y_hat = lr(x)\n",
    "print(\"The prediction is:\", y_hat.item())"
   ],
   "id": "1d0e258abd5c9089",
   "outputs": [
    {
     "name": "stdout",
     "output_type": "stream",
     "text": [
      "The prediction is: 0.10042762756347656\n"
     ]
    }
   ],
   "execution_count": 16
  }
 ],
 "metadata": {
  "kernelspec": {
   "display_name": "Python 3 (ipykernel)",
   "language": "python",
   "name": "python3"
  },
  "language_info": {
   "codemirror_mode": {
    "name": "ipython",
    "version": 2
   },
   "file_extension": ".py",
   "mimetype": "text/x-python",
   "name": "python",
   "nbconvert_exporter": "python",
   "pygments_lexer": "ipython2",
   "version": "2.7.6"
  }
 },
 "nbformat": 4,
 "nbformat_minor": 5
}

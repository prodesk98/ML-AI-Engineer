{
 "cells": [
  {
   "cell_type": "code",
   "id": "initial_id",
   "metadata": {
    "collapsed": true,
    "ExecuteTime": {
     "end_time": "2025-06-24T07:45:39.530384Z",
     "start_time": "2025-06-24T07:45:39.523033Z"
    }
   },
   "source": [
    "import torch\n",
    "import torch.nn as nn\n",
    "import torchvision.transforms as transforms\n",
    "import torchvision.datasets as dsets\n",
    "torch.manual_seed(2)"
   ],
   "outputs": [
    {
     "data": {
      "text/plain": [
       "<torch._C.Generator at 0x7a8674f149b0>"
      ]
     },
     "execution_count": 12,
     "metadata": {},
     "output_type": "execute_result"
    }
   ],
   "execution_count": 12
  },
  {
   "metadata": {},
   "cell_type": "markdown",
   "source": "<img src=\"https://ibm.box.com/shared/static/5wtclahun0f70qlwkn2kxzh3amnbq4zg.png\" width=\"200\" alt=\"Neural Network Model\">",
   "id": "ba476584667846ac"
  },
  {
   "metadata": {
    "ExecuteTime": {
     "end_time": "2025-06-24T07:42:30.100400Z",
     "start_time": "2025-06-24T07:42:30.095634Z"
    }
   },
   "cell_type": "code",
   "source": [
    "class Net(nn.Module):\n",
    "    def __init__(self, D_in, H1, H2, D_out):\n",
    "        super(Net, self).__init__()\n",
    "        self.fc1 = nn.Linear(D_in, H1)  # First hidden layer\n",
    "        self.fc2 = nn.Linear(H1, H2)     # Second hidden layer\n",
    "        self.fc3 = nn.Linear(H2, D_out)  # Output layer\n",
    "\n",
    "    def forward(self, x):\n",
    "        x = torch.relu(self.fc1(x))  # Apply ReLU activation to first layer\n",
    "        x = torch.relu(self.fc2(x))  # Apply ReLU activation to second layer\n",
    "        x = self.fc3(x)          # Output layer (no activation)\n",
    "        return x"
   ],
   "id": "c87c962f4957cef6",
   "outputs": [],
   "execution_count": 6
  },
  {
   "metadata": {
    "ExecuteTime": {
     "end_time": "2025-06-24T07:49:40.751529Z",
     "start_time": "2025-06-24T07:49:40.745022Z"
    }
   },
   "cell_type": "code",
   "source": [
    "def train(model, criterion, train_loader, validation_loader, optimizer, epochs=100):\n",
    "    training_loss = []\n",
    "    for epoch in range(epochs):\n",
    "        for i, (x, y) in enumerate(train_loader):\n",
    "            optimizer.zero_grad()\n",
    "            z = model(x.view(-1, 28 * 28))\n",
    "            loss = criterion(z, y)\n",
    "            loss.backward()\n",
    "            optimizer.step()\n",
    "            training_loss.append(loss.data.item())\n",
    "\n",
    "    correct = 0\n",
    "    for x, y in validation_loader:\n",
    "        z = model(x.view(-1, 28 * 28))\n",
    "        _, label = torch.max(z, 1)\n",
    "        correct += (label == y).sum().item()\n",
    "\n",
    "    accuracy = 100 * (correct / len(validation_dataset))\n",
    "    print(f'Accuracy: {accuracy:.2f}%')"
   ],
   "id": "499bdce7b6ff3e1b",
   "outputs": [],
   "execution_count": 15
  },
  {
   "metadata": {
    "ExecuteTime": {
     "end_time": "2025-06-24T07:44:34.980016Z",
     "start_time": "2025-06-24T07:44:28.096228Z"
    }
   },
   "cell_type": "code",
   "source": [
    "train_dataset = dsets.MNIST(root='./dataset', train=True, download=True, transform=transforms.ToTensor())\n",
    "validation_dataset = dsets.MNIST(root='./dataset', train=False, download=True, transform=transforms.ToTensor())"
   ],
   "id": "109e042f163cef1a",
   "outputs": [
    {
     "name": "stderr",
     "output_type": "stream",
     "text": [
      "100%|████████████████████████████████████████████████████████████████████████████████████████████████████████████████████████████████████████████████████████████████| 9.91M/9.91M [00:01<00:00, 8.41MB/s]\n",
      "100%|█████████████████████████████████████████████████████████████████████████████████████████████████████████████████████████████████████████████████████████████████| 28.9k/28.9k [00:00<00:00, 205kB/s]\n",
      "100%|████████████████████████████████████████████████████████████████████████████████████████████████████████████████████████████████████████████████████████████████| 1.65M/1.65M [00:00<00:00, 1.96MB/s]\n",
      "100%|████████████████████████████████████████████████████████████████████████████████████████████████████████████████████████████████████████████████████████████████| 4.54k/4.54k [00:00<00:00, 5.04MB/s]\n"
     ]
    }
   ],
   "execution_count": 8
  },
  {
   "metadata": {
    "ExecuteTime": {
     "end_time": "2025-06-24T07:44:49.852041Z",
     "start_time": "2025-06-24T07:44:49.848174Z"
    }
   },
   "cell_type": "code",
   "source": [
    "train_loader = torch.utils.data.DataLoader(dataset=train_dataset, batch_size=2000, shuffle=True)\n",
    "validation_loader = torch.utils.data.DataLoader(dataset=validation_dataset, batch_size=5000, shuffle=False)"
   ],
   "id": "1ed9d424058a0fe1",
   "outputs": [],
   "execution_count": 10
  },
  {
   "metadata": {
    "ExecuteTime": {
     "end_time": "2025-06-24T07:44:57.629908Z",
     "start_time": "2025-06-24T07:44:57.625815Z"
    }
   },
   "cell_type": "code",
   "source": "criterion = nn.CrossEntropyLoss()",
   "id": "b99062fbba78e299",
   "outputs": [],
   "execution_count": 11
  },
  {
   "metadata": {
    "ExecuteTime": {
     "end_time": "2025-06-24T07:50:34.430638Z",
     "start_time": "2025-06-24T07:49:44.003192Z"
    }
   },
   "cell_type": "code",
   "source": [
    "input_dim = 28 * 28\n",
    "hidden_dim1 = 50\n",
    "hidden_dim2 = 50\n",
    "output_dim = 10\n",
    "learning_rate = 0.01\n",
    "epochs = 10\n",
    "\n",
    "modelRelu = Net(input_dim, hidden_dim1, hidden_dim2, output_dim)\n",
    "optimizer = torch.optim.SGD(modelRelu.parameters(), lr=learning_rate)\n",
    "training_results_relu = train(modelRelu, criterion, train_loader, validation_loader, optimizer, epochs=epochs)"
   ],
   "id": "3aadaa7f53a9ad0a",
   "outputs": [
    {
     "name": "stdout",
     "output_type": "stream",
     "text": [
      "Accuracy: 40.53%\n"
     ]
    }
   ],
   "execution_count": 16
  },
  {
   "metadata": {},
   "cell_type": "code",
   "outputs": [],
   "execution_count": null,
   "source": "",
   "id": "cfd63610e2acf13f"
  }
 ],
 "metadata": {
  "kernelspec": {
   "display_name": "Python 3 (ipykernel)",
   "language": "python",
   "name": "python3"
  },
  "language_info": {
   "codemirror_mode": {
    "name": "ipython",
    "version": 2
   },
   "file_extension": ".py",
   "mimetype": "text/x-python",
   "name": "python",
   "nbconvert_exporter": "python",
   "pygments_lexer": "ipython2",
   "version": "2.7.6"
  }
 },
 "nbformat": 4,
 "nbformat_minor": 5
}

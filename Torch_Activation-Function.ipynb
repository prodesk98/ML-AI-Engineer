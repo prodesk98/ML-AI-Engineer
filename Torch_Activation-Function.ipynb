{
 "cells": [
  {
   "metadata": {},
   "cell_type": "markdown",
   "source": [
    "### Cross Entropy Loss Function\n",
    "\n",
    "Formula:\n",
    "\n",
    "For binary classification:\n",
    "$$\n",
    "\\text{Loss} = -[y \\cdot \\log(\\hat{y}) + (1 - y) \\cdot \\log(1 - \\hat{y})]\n",
    "$$\n",
    "where:\n",
    "- $y$ is the true label (0 or 1)\n",
    "- $\\hat{y}$ is the predicted probability of the positive class\n",
    "\n",
    "For multi-class classification:\n",
    "$$\n",
    "\\text{Loss} = -\\sum_{i=1}^{C} y_i \\cdot \\log(\\hat{y}_i)\n",
    "$$\n",
    "where:\n",
    "- $C$ is the number of classes\n",
    "- $y_i$ is the true label for class (one-hot or categorical)\n",
    "- $\\hat{y}_i$ is the predicted probability for class $i$"
   ],
   "id": "dd4f1fe8abfad234"
  },
  {
   "metadata": {
    "ExecuteTime": {
     "end_time": "2025-06-24T06:46:54.629103Z",
     "start_time": "2025-06-24T06:46:54.625413Z"
    }
   },
   "cell_type": "code",
   "source": [
    "import torch\n",
    "import torch.nn as nn\n",
    "import torch.nn.functional as F"
   ],
   "id": "5df09d77edc5b16b",
   "outputs": [],
   "execution_count": 10
  },
  {
   "metadata": {
    "ExecuteTime": {
     "end_time": "2025-06-24T06:36:26.357697Z",
     "start_time": "2025-06-24T06:36:26.352509Z"
    }
   },
   "cell_type": "code",
   "source": [
    "# Multi-class Cross Entropy Loss\n",
    "logits = torch.tensor([[2.0, 1.0, 0.1, -1.0],\n",
    "                       [0.5, 2.1, 1.2, 0.3],\n",
    "                       [1.0, 0.0, 3.2, 1.5]])\n",
    "\n",
    "# True labels for each sample\n",
    "labels = torch.tensor([0, 1, 2])\n",
    "\n",
    "# Create the Cross Entropy Loss function\n",
    "criterion = nn.CrossEntropyLoss()\n",
    "# Compute the loss\n",
    "output = criterion(logits, labels)\n",
    "print(\"Multi-class Cross Entropy Loss:\", output.item())"
   ],
   "id": "8100641ebe2d84fb",
   "outputs": [
    {
     "name": "stdout",
     "output_type": "stream",
     "text": [
      "Multi-class Cross Entropy Loss: 0.4369286298751831\n"
     ]
    }
   ],
   "execution_count": 3
  },
  {
   "metadata": {},
   "cell_type": "markdown",
   "source": [
    "### Softmax Activation Function\n",
    "\n",
    "Formula:\n",
    "$$\n",
    "\\text{softmax}(z_i) = \\frac{e^{z_i}}{\\sum_{j} e^{z_j}}\n",
    "$$\n",
    "where:\n",
    "- $z_i$ is the input to the softmax function for class $i$\n",
    "- $\\sum_j e^{z_j}$ is the sum of the exponential of all inputs"
   ],
   "id": "405930afd422f33e"
  },
  {
   "metadata": {
    "ExecuteTime": {
     "end_time": "2025-06-24T06:46:56.804258Z",
     "start_time": "2025-06-24T06:46:56.799512Z"
    }
   },
   "cell_type": "code",
   "source": [
    "logits = torch.tensor([2.0, 1.0, 0.1])\n",
    "\n",
    "# Apply softmax to the logits\n",
    "probs = F.softmax(logits, dim=0)\n",
    "print(\"Softmax Probabilities:\", probs.tolist())"
   ],
   "id": "1bd808ecab4381f1",
   "outputs": [
    {
     "name": "stdout",
     "output_type": "stream",
     "text": [
      "Softmax Probabilities: [0.6590011715888977, 0.24243298172950745, 0.09856589138507843]\n"
     ]
    }
   ],
   "execution_count": 11
  },
  {
   "metadata": {},
   "cell_type": "markdown",
   "source": [
    "### Sigmoid Activation Function\n",
    "\n",
    "Formula:\n",
    "$$\n",
    "\\sigma(x) = \\frac{1}{1 + e^{-x}}\n",
    "$$\n",
    "where:\n",
    "- When $x \\to -\\infty$, $\\sigma(x) \\to 0$\n",
    "- When $x \\to +\\infty$, $\\sigma(x) \\to 1$\n",
    "- When $x = 0$, $\\sigma(x) = 0.5$"
   ],
   "id": "c773acd17ddc1be6"
  },
  {
   "metadata": {
    "ExecuteTime": {
     "end_time": "2025-06-24T06:49:32.813607Z",
     "start_time": "2025-06-24T06:49:32.807949Z"
    }
   },
   "cell_type": "code",
   "source": [
    "sigmoid = nn.Sigmoid()\n",
    "x = torch.tensor([0.0, 2.0, -2.0])\n",
    "# Apply sigmoid activation\n",
    "output = sigmoid(x)\n",
    "print(\"Sigmoid Output:\", output.tolist())"
   ],
   "id": "bcadd0490232e1d2",
   "outputs": [
    {
     "name": "stdout",
     "output_type": "stream",
     "text": [
      "Sigmoid Output: [0.5, 0.8807970285415649, 0.11920291930437088]\n"
     ]
    }
   ],
   "execution_count": 13
  },
  {
   "metadata": {},
   "cell_type": "markdown",
   "source": [
    "### ReLU Activation Function\n",
    "\n",
    "Formula:\n",
    "$$\n",
    "\\text{ReLU}(x) = \\max(0, x)\n",
    "$$\n",
    "where:\n",
    "- When $x > 0$, $\\text{ReLU}(x) = x$\n",
    "- When $x \\leq 0$, $\\text{ReLU}(x) = 0$"
   ],
   "id": "576fec3e5dee8e49"
  },
  {
   "metadata": {
    "ExecuteTime": {
     "end_time": "2025-06-24T06:54:16.944601Z",
     "start_time": "2025-06-24T06:54:16.938441Z"
    }
   },
   "cell_type": "code",
   "source": [
    "relu = nn.ReLU()\n",
    "x = torch.tensor([-1.0, 0.0, 1.0, 2.0])\n",
    "# Apply ReLU activation\n",
    "output = relu(x)\n",
    "print(\"ReLU Output:\", output.tolist())"
   ],
   "id": "92ca00ce018a952a",
   "outputs": [
    {
     "name": "stdout",
     "output_type": "stream",
     "text": [
      "ReLU Output: [0.0, 0.0, 1.0, 2.0]\n"
     ]
    }
   ],
   "execution_count": 14
  },
  {
   "metadata": {},
   "cell_type": "code",
   "outputs": [],
   "execution_count": null,
   "source": "",
   "id": "d86673b6ad0af1cb"
  }
 ],
 "metadata": {
  "kernelspec": {
   "display_name": "Python 3 (ipykernel)",
   "language": "python",
   "name": "python3"
  },
  "language_info": {
   "codemirror_mode": {
    "name": "ipython",
    "version": 2
   },
   "file_extension": ".py",
   "mimetype": "text/x-python",
   "name": "python",
   "nbconvert_exporter": "python",
   "pygments_lexer": "ipython2",
   "version": "2.7.6"
  }
 },
 "nbformat": 4,
 "nbformat_minor": 5
}

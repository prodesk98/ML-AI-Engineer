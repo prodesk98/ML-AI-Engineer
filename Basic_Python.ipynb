{
 "cells": [
  {
   "cell_type": "code",
   "id": "initial_id",
   "metadata": {
    "collapsed": true,
    "ExecuteTime": {
     "end_time": "2025-07-01T14:39:40.894818Z",
     "start_time": "2025-07-01T14:39:40.888243Z"
    }
   },
   "source": [
    "x = 5\n",
    "x = x - 2\n",
    "x"
   ],
   "outputs": [
    {
     "data": {
      "text/plain": [
       "3"
      ]
     },
     "execution_count": 2,
     "metadata": {},
     "output_type": "execute_result"
    }
   ],
   "execution_count": 2
  },
  {
   "metadata": {
    "ExecuteTime": {
     "end_time": "2025-07-01T14:41:14.497925Z",
     "start_time": "2025-07-01T14:41:14.493012Z"
    }
   },
   "cell_type": "code",
   "source": [
    "z = (40 + 12) * 1.15\n",
    "z"
   ],
   "id": "38615c19b2dc5671",
   "outputs": [
    {
     "data": {
      "text/plain": [
       "59.8"
      ]
     },
     "execution_count": 5,
     "metadata": {},
     "output_type": "execute_result"
    }
   ],
   "execution_count": 5
  },
  {
   "metadata": {
    "ExecuteTime": {
     "end_time": "2025-07-01T14:41:47.719107Z",
     "start_time": "2025-07-01T14:41:47.713137Z"
    }
   },
   "cell_type": "code",
   "source": "float(\"22.5\")",
   "id": "b9197341683074d5",
   "outputs": [
    {
     "data": {
      "text/plain": [
       "22.5"
      ]
     },
     "execution_count": 6,
     "metadata": {},
     "output_type": "execute_result"
    }
   ],
   "execution_count": 6
  },
  {
   "metadata": {
    "ExecuteTime": {
     "end_time": "2025-07-01T14:41:59.818248Z",
     "start_time": "2025-07-01T14:41:59.814113Z"
    }
   },
   "cell_type": "code",
   "source": "int(False)",
   "id": "66242ab16aebeac8",
   "outputs": [
    {
     "data": {
      "text/plain": [
       "0"
      ]
     },
     "execution_count": 7,
     "metadata": {},
     "output_type": "execute_result"
    }
   ],
   "execution_count": 7
  },
  {
   "metadata": {
    "ExecuteTime": {
     "end_time": "2025-07-01T14:43:45.355790Z",
     "start_time": "2025-07-01T14:43:45.350687Z"
    }
   },
   "cell_type": "code",
   "source": [
    "text = \"Hello, World!\"\n",
    "text[0:5]"
   ],
   "id": "1d7a10faac1e022e",
   "outputs": [
    {
     "data": {
      "text/plain": [
       "'Hello'"
      ]
     },
     "execution_count": 8,
     "metadata": {},
     "output_type": "execute_result"
    }
   ],
   "execution_count": 8
  },
  {
   "metadata": {
    "ExecuteTime": {
     "end_time": "2025-07-01T14:46:56.860300Z",
     "start_time": "2025-07-01T14:46:56.855149Z"
    }
   },
   "cell_type": "code",
   "source": [
    "experiment_data= ((1.5, 2.7), [3.6, 4.1])\n",
    "experiment_data[1]"
   ],
   "id": "6182583a754e44b9",
   "outputs": [
    {
     "data": {
      "text/plain": [
       "[3.6, 4.1]"
      ]
     },
     "execution_count": 11,
     "metadata": {},
     "output_type": "execute_result"
    }
   ],
   "execution_count": 11
  },
  {
   "metadata": {
    "ExecuteTime": {
     "end_time": "2025-07-01T14:47:22.894336Z",
     "start_time": "2025-07-01T14:47:22.889025Z"
    }
   },
   "cell_type": "code",
   "source": [
    "A=((1,),[2,3],[4])\n",
    "A[2]"
   ],
   "id": "a01d1b22886eadee",
   "outputs": [
    {
     "data": {
      "text/plain": [
       "[4]"
      ]
     },
     "execution_count": 12,
     "metadata": {},
     "output_type": "execute_result"
    }
   ],
   "execution_count": 12
  },
  {
   "metadata": {
    "ExecuteTime": {
     "end_time": "2025-07-01T14:48:40.559441Z",
     "start_time": "2025-07-01T14:48:40.553447Z"
    }
   },
   "cell_type": "code",
   "source": [
    "B=[1,2,3,4]\n",
    "del B[0]\n",
    "B"
   ],
   "id": "8f83cb82431ae909",
   "outputs": [
    {
     "data": {
      "text/plain": [
       "[2, 3, 4]"
      ]
     },
     "execution_count": 17,
     "metadata": {},
     "output_type": "execute_result"
    }
   ],
   "execution_count": 17
  },
  {
   "metadata": {
    "ExecuteTime": {
     "end_time": "2025-07-01T14:49:05.091726Z",
     "start_time": "2025-07-01T14:49:05.086358Z"
    }
   },
   "cell_type": "code",
   "source": [
    "A=[1,2,3,4]\n",
    "B=A[:]\n",
    "B"
   ],
   "id": "9b6e5445c23a9576",
   "outputs": [
    {
     "data": {
      "text/plain": [
       "[1, 2, 3, 4]"
      ]
     },
     "execution_count": 18,
     "metadata": {},
     "output_type": "execute_result"
    }
   ],
   "execution_count": 18
  },
  {
   "metadata": {
    "ExecuteTime": {
     "end_time": "2025-07-01T14:50:22.364632Z",
     "start_time": "2025-07-01T14:50:22.359732Z"
    }
   },
   "cell_type": "code",
   "source": [
    "A=(\"Python\", \"Data\", \"Science\")\n",
    "A[1:3]"
   ],
   "id": "bea6b3fe4617d5a0",
   "outputs": [
    {
     "data": {
      "text/plain": [
       "('Data', 'Science')"
      ]
     },
     "execution_count": 19,
     "metadata": {},
     "output_type": "execute_result"
    }
   ],
   "execution_count": 19
  },
  {
   "metadata": {
    "ExecuteTime": {
     "end_time": "2025-07-01T14:51:57.671971Z",
     "start_time": "2025-07-01T14:51:57.666946Z"
    }
   },
   "cell_type": "code",
   "source": [
    "A = {\"camisa\":45, \"calça\":20, \"sapatos\":15, \"chapéu\":5}\n",
    "A.values()"
   ],
   "id": "2819f54b41fee21e",
   "outputs": [
    {
     "data": {
      "text/plain": [
       "dict_values([45, 20, 15, 5])"
      ]
     },
     "execution_count": 20,
     "metadata": {},
     "output_type": "execute_result"
    }
   ],
   "execution_count": 20
  },
  {
   "metadata": {
    "ExecuteTime": {
     "end_time": "2025-07-01T14:52:26.265543Z",
     "start_time": "2025-07-01T14:52:26.260554Z"
    }
   },
   "cell_type": "code",
   "source": [
    "V={'A','B'}\n",
    "V.add('C')\n",
    "V"
   ],
   "id": "df67c3a84806c1cd",
   "outputs": [
    {
     "data": {
      "text/plain": [
       "{'A', 'B', 'C'}"
      ]
     },
     "execution_count": 21,
     "metadata": {},
     "output_type": "execute_result"
    }
   ],
   "execution_count": 21
  },
  {
   "metadata": {
    "ExecuteTime": {
     "end_time": "2025-07-01T14:53:17.395779Z",
     "start_time": "2025-07-01T14:53:17.391155Z"
    }
   },
   "cell_type": "code",
   "source": "'1' in {'1', '2'}",
   "id": "50810624ced5a1b8",
   "outputs": [
    {
     "data": {
      "text/plain": [
       "True"
      ]
     },
     "execution_count": 22,
     "metadata": {},
     "output_type": "execute_result"
    }
   ],
   "execution_count": 22
  },
  {
   "metadata": {
    "ExecuteTime": {
     "end_time": "2025-07-01T14:58:14.924336Z",
     "start_time": "2025-07-01T14:58:14.920486Z"
    }
   },
   "cell_type": "code",
   "source": [
    "signal_state = \"Red\"\n",
    "if signal_state == \"Green\":\n",
    "    print(\"Walk\")\n",
    "else:\n",
    "    print(\"Wait\")\n",
    "print(\"Look both ways\")"
   ],
   "id": "616bea43c63b0099",
   "outputs": [
    {
     "name": "stdout",
     "output_type": "stream",
     "text": [
      "Wait\n",
      "Look both ways\n"
     ]
    }
   ],
   "execution_count": 23
  },
  {
   "metadata": {
    "ExecuteTime": {
     "end_time": "2025-07-01T14:58:57.043587Z",
     "start_time": "2025-07-01T14:58:57.038516Z"
    }
   },
   "cell_type": "code",
   "source": [
    "current_temp = 18\n",
    "current_temp = current_temp > 25\n",
    "current_temp"
   ],
   "id": "b720ed123224fb0d",
   "outputs": [
    {
     "data": {
      "text/plain": [
       "False"
      ]
     },
     "execution_count": 25,
     "metadata": {},
     "output_type": "execute_result"
    }
   ],
   "execution_count": 25
  },
  {
   "metadata": {
    "ExecuteTime": {
     "end_time": "2025-07-01T14:59:29.425015Z",
     "start_time": "2025-07-01T14:59:29.420645Z"
    }
   },
   "cell_type": "code",
   "source": [
    "class Coordinate(object):\n",
    "    def __init__(self, x, y):\n",
    "        self.x = x\n",
    "        self.y = y\n",
    "    def display(self):\n",
    "        print(f\"Position: ({self.x}, {self.y})\")\n",
    "cursor = Coordinate(15, 30)\n",
    "cursor.display()"
   ],
   "id": "1bb4504a07dcc0a8",
   "outputs": [
    {
     "name": "stdout",
     "output_type": "stream",
     "text": [
      "Position: (15, 30)\n"
     ]
    }
   ],
   "execution_count": 26
  },
  {
   "metadata": {
    "ExecuteTime": {
     "end_time": "2025-07-01T15:01:05.689652Z",
     "start_time": "2025-07-01T15:01:05.684973Z"
    }
   },
   "cell_type": "code",
   "source": [
    "class Points(object):\n",
    "    def __init__(self, x, y):\n",
    "        self.init(x, y)\n",
    "    def init(self, x, y):\n",
    "        self.x = x\n",
    "        self.y = y\n",
    "    def print_point(self):\n",
    "        print('x=', self.x, ' y=', self.y)\n",
    "p2 = Points(1, 2)\n",
    "p2.x = 'A'\n",
    "p2.print_point()"
   ],
   "id": "360c8998188e6cc3",
   "outputs": [
    {
     "name": "stdout",
     "output_type": "stream",
     "text": [
      "x= A  y= 2\n"
     ]
    }
   ],
   "execution_count": 29
  },
  {
   "metadata": {
    "ExecuteTime": {
     "end_time": "2025-07-01T15:01:56.053352Z",
     "start_time": "2025-07-01T15:01:56.049373Z"
    }
   },
   "cell_type": "code",
   "source": [
    "def delta(x):\n",
    "    if x == 0:\n",
    "        y = 1\n",
    "    else:\n",
    "        y = 0\n",
    "    return y\n",
    "print(delta(0))"
   ],
   "id": "7d24dc085c081def",
   "outputs": [
    {
     "name": "stdout",
     "output_type": "stream",
     "text": [
      "1\n"
     ]
    }
   ],
   "execution_count": 30
  },
  {
   "metadata": {
    "ExecuteTime": {
     "end_time": "2025-07-01T15:02:02.649851Z",
     "start_time": "2025-07-01T15:02:02.645065Z"
    }
   },
   "cell_type": "code",
   "source": [
    "a = 1\n",
    "def do(x):\n",
    "    a = 100\n",
    "    return x + a\n",
    "print(do(1))"
   ],
   "id": "57c62c1c8d630e0",
   "outputs": [
    {
     "name": "stdout",
     "output_type": "stream",
     "text": [
      "101\n"
     ]
    }
   ],
   "execution_count": 31
  },
  {
   "metadata": {
    "ExecuteTime": {
     "end_time": "2025-07-01T15:03:32.624066Z",
     "start_time": "2025-07-01T15:03:32.619517Z"
    }
   },
   "cell_type": "code",
   "source": [
    "def soma(a, b):\n",
    "    return a + b\n",
    "print(soma(2, 3))"
   ],
   "id": "1cbfd0a96c239d6f",
   "outputs": [
    {
     "name": "stdout",
     "output_type": "stream",
     "text": [
      "5\n"
     ]
    }
   ],
   "execution_count": 32
  },
  {
   "metadata": {
    "ExecuteTime": {
     "end_time": "2025-07-01T15:05:59.260376Z",
     "start_time": "2025-07-01T15:05:59.102818Z"
    }
   },
   "cell_type": "code",
   "source": [
    "import numpy as np\n",
    "a, b = np.array([-1,1]), np.array([1,1])\n",
    "np.dot(a, b)"
   ],
   "id": "aa4438f10d16d6dc",
   "outputs": [
    {
     "data": {
      "text/plain": [
       "0"
      ]
     },
     "execution_count": 33,
     "metadata": {},
     "output_type": "execute_result"
    }
   ],
   "execution_count": 33
  },
  {
   "metadata": {
    "ExecuteTime": {
     "end_time": "2025-07-01T15:07:13.903831Z",
     "start_time": "2025-07-01T15:07:13.897864Z"
    }
   },
   "cell_type": "code",
   "source": [
    "X=np.array([[1,0,1],[2,2,2]])\n",
    "X.ndim"
   ],
   "id": "579c7183546c8eb4",
   "outputs": [
    {
     "data": {
      "text/plain": [
       "2"
      ]
     },
     "execution_count": 35,
     "metadata": {},
     "output_type": "execute_result"
    }
   ],
   "execution_count": 35
  },
  {
   "metadata": {
    "ExecuteTime": {
     "end_time": "2025-07-01T15:11:11.449723Z",
     "start_time": "2025-07-01T15:11:11.445085Z"
    }
   },
   "cell_type": "code",
   "source": [
    "name = \"ABCDE\"\n",
    "name.find(\"B\")"
   ],
   "id": "df5ae57b71e87293",
   "outputs": [
    {
     "data": {
      "text/plain": [
       "1"
      ]
     },
     "execution_count": 36,
     "metadata": {},
     "output_type": "execute_result"
    }
   ],
   "execution_count": 36
  },
  {
   "metadata": {
    "ExecuteTime": {
     "end_time": "2025-07-01T15:11:43.785213Z",
     "start_time": "2025-07-01T15:11:43.780266Z"
    }
   },
   "cell_type": "code",
   "source": "1//2",
   "id": "95c48331be45d6f0",
   "outputs": [
    {
     "data": {
      "text/plain": [
       "0"
      ]
     },
     "execution_count": 41,
     "metadata": {},
     "output_type": "execute_result"
    }
   ],
   "execution_count": 41
  },
  {
   "metadata": {
    "ExecuteTime": {
     "end_time": "2025-07-01T15:14:31.561736Z",
     "start_time": "2025-07-01T15:14:31.557528Z"
    }
   },
   "cell_type": "code",
   "source": [
    "a = set()\n",
    "a.add(1)\n",
    "a.add(1)"
   ],
   "id": "94c2bfdf2305750",
   "outputs": [],
   "execution_count": 47
  },
  {
   "metadata": {
    "ExecuteTime": {
     "end_time": "2025-07-01T15:15:35.273516Z",
     "start_time": "2025-07-01T15:15:35.269739Z"
    }
   },
   "cell_type": "code",
   "source": [
    "def ee(x):\n",
    "    if(x!=1):\n",
    "        print('Hello')\n",
    "    else:\n",
    "        print('Hi')\n",
    "\n",
    "    print('Mike')\n",
    "ee(1)"
   ],
   "id": "768e1a71bad61c0b",
   "outputs": [
    {
     "name": "stdout",
     "output_type": "stream",
     "text": [
      "Hi\n",
      "Mike\n"
     ]
    }
   ],
   "execution_count": 49
  },
  {
   "metadata": {
    "ExecuteTime": {
     "end_time": "2025-07-01T15:17:55.050852Z",
     "start_time": "2025-07-01T15:17:55.046733Z"
    }
   },
   "cell_type": "code",
   "source": [
    "for i in range(1,5):\n",
    "    if i!=2:\n",
    "        print(i)"
   ],
   "id": "72ac8303e9255782",
   "outputs": [
    {
     "name": "stdout",
     "output_type": "stream",
     "text": [
      "1\n",
      "3\n",
      "4\n"
     ]
    }
   ],
   "execution_count": 51
  },
  {
   "metadata": {
    "ExecuteTime": {
     "end_time": "2025-07-01T15:18:14.566321Z",
     "start_time": "2025-07-01T15:18:14.562375Z"
    }
   },
   "cell_type": "code",
   "source": [
    "class Rectangle(object):\n",
    "\n",
    "    def __init__(self,width=2,height =3,color='r'):\n",
    "\n",
    "        self.height=height\n",
    "\n",
    "        self.width=width\n",
    "\n",
    "        self.color=color\n",
    "\n",
    "    def drawRectangle(self):\n",
    "\n",
    "        import matplotlib.pyplot as plt\n",
    "\n",
    "        plt.gca().add_patch(plt.Rectangle((0, 0),self.width, self.height ,fc=self.color))\n",
    "\n",
    "        plt.axis('scaled')\n",
    "        plt.show()"
   ],
   "id": "c3db15e4285923d8",
   "outputs": [],
   "execution_count": 52
  },
  {
   "metadata": {
    "ExecuteTime": {
     "end_time": "2025-07-01T15:19:36.833044Z",
     "start_time": "2025-07-01T15:19:36.827931Z"
    }
   },
   "cell_type": "code",
   "source": [
    "A = [1, 5, 3, 9, 7]\n",
    "A = sorted(A)\n",
    "A"
   ],
   "id": "955bed30608c311d",
   "outputs": [
    {
     "data": {
      "text/plain": [
       "[1, 3, 5, 7, 9]"
      ]
     },
     "execution_count": 58,
     "metadata": {},
     "output_type": "execute_result"
    }
   ],
   "execution_count": 58
  },
  {
   "metadata": {
    "ExecuteTime": {
     "end_time": "2025-07-01T15:20:11.625081Z",
     "start_time": "2025-07-01T15:20:11.619089Z"
    }
   },
   "cell_type": "code",
   "source": [
    "a=np.array([10,9,8,7,6])\n",
    "\n",
    "a+1"
   ],
   "id": "7f6c797639387768",
   "outputs": [
    {
     "data": {
      "text/plain": [
       "array([11, 10,  9,  8,  7])"
      ]
     },
     "execution_count": 59,
     "metadata": {},
     "output_type": "execute_result"
    }
   ],
   "execution_count": 59
  },
  {
   "metadata": {
    "ExecuteTime": {
     "end_time": "2025-07-01T15:33:38.442313Z",
     "start_time": "2025-07-01T15:33:38.436626Z"
    }
   },
   "cell_type": "code",
   "source": "11//2",
   "id": "52f5d404a8ca1cd2",
   "outputs": [
    {
     "data": {
      "text/plain": [
       "5"
      ]
     },
     "execution_count": 60,
     "metadata": {},
     "output_type": "execute_result"
    }
   ],
   "execution_count": 60
  },
  {
   "metadata": {
    "ExecuteTime": {
     "end_time": "2025-07-01T15:33:45.083557Z",
     "start_time": "2025-07-01T15:33:45.077701Z"
    }
   },
   "cell_type": "code",
   "source": [
    "x=4\n",
    "x=x/2\n",
    "x"
   ],
   "id": "c24272d9badcda1e",
   "outputs": [
    {
     "data": {
      "text/plain": [
       "2.0"
      ]
     },
     "execution_count": 61,
     "metadata": {},
     "output_type": "execute_result"
    }
   ],
   "execution_count": 61
  },
  {
   "metadata": {
    "ExecuteTime": {
     "end_time": "2025-07-01T15:36:13.976737Z",
     "start_time": "2025-07-01T15:36:13.973310Z"
    }
   },
   "cell_type": "code",
   "source": [
    "def f(x):\n",
    "    return 2*x**2-3"
   ],
   "id": "2e9779c64f1abd6d",
   "outputs": [],
   "execution_count": 62
  },
  {
   "metadata": {
    "ExecuteTime": {
     "end_time": "2025-07-01T15:36:29.835172Z",
     "start_time": "2025-07-01T15:36:29.830392Z"
    }
   },
   "cell_type": "code",
   "source": [
    "name = \"Michael Jackson\"\n",
    "name[-1]"
   ],
   "id": "9433609140f65393",
   "outputs": [
    {
     "data": {
      "text/plain": [
       "'n'"
      ]
     },
     "execution_count": 63,
     "metadata": {},
     "output_type": "execute_result"
    }
   ],
   "execution_count": 63
  },
  {
   "metadata": {
    "ExecuteTime": {
     "end_time": "2025-07-01T15:36:41.156836Z",
     "start_time": "2025-07-01T15:36:41.152652Z"
    }
   },
   "cell_type": "code",
   "source": "print(\"AB\\nC\\nDE\")",
   "id": "654c77cacd5da5f8",
   "outputs": [
    {
     "name": "stdout",
     "output_type": "stream",
     "text": [
      "AB\n",
      "C\n",
      "DE\n"
     ]
    }
   ],
   "execution_count": 64
  },
  {
   "metadata": {
    "ExecuteTime": {
     "end_time": "2025-07-01T15:36:47.872131Z",
     "start_time": "2025-07-01T15:36:47.865582Z"
    }
   },
   "cell_type": "code",
   "source": "\"helloMike\".find(\"Mike\")",
   "id": "ee4b749283565d4",
   "outputs": [
    {
     "data": {
      "text/plain": [
       "5"
      ]
     },
     "execution_count": 65,
     "metadata": {},
     "output_type": "execute_result"
    }
   ],
   "execution_count": 65
  },
  {
   "metadata": {
    "ExecuteTime": {
     "end_time": "2025-07-01T15:38:06.719664Z",
     "start_time": "2025-07-01T15:38:06.714685Z"
    }
   },
   "cell_type": "code",
   "source": [
    "say_what=('say','what','you','will')\n",
    "say_what[-1]"
   ],
   "id": "983d94ef7d278b73",
   "outputs": [
    {
     "data": {
      "text/plain": [
       "'will'"
      ]
     },
     "execution_count": 66,
     "metadata": {},
     "output_type": "execute_result"
    }
   ],
   "execution_count": 66
  },
  {
   "metadata": {
    "ExecuteTime": {
     "end_time": "2025-07-01T15:38:54.228133Z",
     "start_time": "2025-07-01T15:38:54.222894Z"
    }
   },
   "cell_type": "code",
   "source": [
    "A=(1,2,3,4,5)\n",
    "A[1:4]"
   ],
   "id": "fd0acb3a14dad582",
   "outputs": [
    {
     "data": {
      "text/plain": [
       "(2, 3, 4)"
      ]
     },
     "execution_count": 67,
     "metadata": {},
     "output_type": "execute_result"
    }
   ],
   "execution_count": 67
  },
  {
   "metadata": {
    "ExecuteTime": {
     "end_time": "2025-07-01T15:39:09.291360Z",
     "start_time": "2025-07-01T15:39:09.285657Z"
    }
   },
   "cell_type": "code",
   "source": [
    "B=[1,2,[3,'a'],[4,'b']]\n",
    "B[3][1]"
   ],
   "id": "de9355a8de138bd5",
   "outputs": [
    {
     "data": {
      "text/plain": [
       "'b'"
      ]
     },
     "execution_count": 68,
     "metadata": {},
     "output_type": "execute_result"
    }
   ],
   "execution_count": 68
  },
  {
   "metadata": {
    "ExecuteTime": {
     "end_time": "2025-07-01T15:39:15.007864Z",
     "start_time": "2025-07-01T15:39:15.003089Z"
    }
   },
   "cell_type": "code",
   "source": "[1,2,3] + [1,1,1]",
   "id": "91ca436d1b51dbe9",
   "outputs": [
    {
     "data": {
      "text/plain": [
       "[1, 2, 3, 1, 1, 1]"
      ]
     },
     "execution_count": 69,
     "metadata": {},
     "output_type": "execute_result"
    }
   ],
   "execution_count": 69
  },
  {
   "metadata": {
    "ExecuteTime": {
     "end_time": "2025-07-01T15:39:51.051499Z",
     "start_time": "2025-07-01T15:39:51.046768Z"
    }
   },
   "cell_type": "code",
   "source": [
    "A = [1]\n",
    "A.append([2, 3, 4, 5])\n",
    "len(A)"
   ],
   "id": "9c1e3b7b3f71d8cb",
   "outputs": [
    {
     "data": {
      "text/plain": [
       "2"
      ]
     },
     "execution_count": 73,
     "metadata": {},
     "output_type": "execute_result"
    }
   ],
   "execution_count": 73
  },
  {
   "metadata": {
    "ExecuteTime": {
     "end_time": "2025-07-01T15:40:36.706948Z",
     "start_time": "2025-07-01T15:40:36.702850Z"
    }
   },
   "cell_type": "code",
   "source": [
    "A =  {\"a\":1,\"b\":2}\n",
    "A.keys()"
   ],
   "id": "9c603ea085408618",
   "outputs": [
    {
     "data": {
      "text/plain": [
       "dict_keys(['a', 'b'])"
      ]
     },
     "execution_count": 74,
     "metadata": {},
     "output_type": "execute_result"
    }
   ],
   "execution_count": 74
  },
  {
   "metadata": {
    "ExecuteTime": {
     "end_time": "2025-07-01T15:40:52.664518Z",
     "start_time": "2025-07-01T15:40:52.659802Z"
    }
   },
   "cell_type": "code",
   "source": [
    "Dict={\"A\":1,\"B\":\"2\",\"C\":[3,3,3],\"D\":(4,4,4),'E':5,'F':6}\n",
    "Dict[\"D\"]"
   ],
   "id": "2b460f538bccdc6c",
   "outputs": [
    {
     "data": {
      "text/plain": [
       "(4, 4, 4)"
      ]
     },
     "execution_count": 75,
     "metadata": {},
     "output_type": "execute_result"
    }
   ],
   "execution_count": 75
  },
  {
   "metadata": {
    "ExecuteTime": {
     "end_time": "2025-07-01T15:41:54.181494Z",
     "start_time": "2025-07-01T15:41:54.176242Z"
    }
   },
   "cell_type": "code",
   "source": "{'a','b'} &{'a'}",
   "id": "7b13955bd5c6f122",
   "outputs": [
    {
     "data": {
      "text/plain": [
       "{'a'}"
      ]
     },
     "execution_count": 76,
     "metadata": {},
     "output_type": "execute_result"
    }
   ],
   "execution_count": 76
  },
  {
   "metadata": {
    "ExecuteTime": {
     "end_time": "2025-07-01T15:42:58.271186Z",
     "start_time": "2025-07-01T15:42:58.265922Z"
    }
   },
   "cell_type": "code",
   "source": [
    "i=6\n",
    "i<5"
   ],
   "id": "d3a65dc3237043cf",
   "outputs": [
    {
     "data": {
      "text/plain": [
       "False"
      ]
     },
     "execution_count": 78,
     "metadata": {},
     "output_type": "execute_result"
    }
   ],
   "execution_count": 78
  },
  {
   "metadata": {
    "ExecuteTime": {
     "end_time": "2025-07-01T15:43:13.943852Z",
     "start_time": "2025-07-01T15:43:13.939245Z"
    }
   },
   "cell_type": "code",
   "source": "\"a\"==\"A\"",
   "id": "42dd8d24f7479169",
   "outputs": [
    {
     "data": {
      "text/plain": [
       "False"
      ]
     },
     "execution_count": 80,
     "metadata": {},
     "output_type": "execute_result"
    }
   ],
   "execution_count": 80
  },
  {
   "metadata": {
    "ExecuteTime": {
     "end_time": "2025-07-01T15:44:07.691009Z",
     "start_time": "2025-07-01T15:44:07.687173Z"
    }
   },
   "cell_type": "code",
   "source": [
    "for x in range(0, 3):\n",
    "    print(x)"
   ],
   "id": "3863a992ec0761f2",
   "outputs": [
    {
     "name": "stdout",
     "output_type": "stream",
     "text": [
      "0\n",
      "1\n",
      "2\n"
     ]
    }
   ],
   "execution_count": 81
  },
  {
   "metadata": {
    "ExecuteTime": {
     "end_time": "2025-07-01T15:44:13.581811Z",
     "start_time": "2025-07-01T15:44:13.577599Z"
    }
   },
   "cell_type": "code",
   "source": [
    "for x in ['A', 'B', 'C']:\n",
    "    print(x + 'A')"
   ],
   "id": "d8b6fdd73cd1e71f",
   "outputs": [
    {
     "name": "stdout",
     "output_type": "stream",
     "text": [
      "AA\n",
      "BA\n",
      "CA\n"
     ]
    }
   ],
   "execution_count": 82
  },
  {
   "metadata": {
    "ExecuteTime": {
     "end_time": "2025-07-01T15:44:20.019486Z",
     "start_time": "2025-07-01T15:44:20.015663Z"
    }
   },
   "cell_type": "code",
   "source": [
    "for i, x in enumerate(['A', 'B', 'C']):\n",
    "    print(i, x)\n"
   ],
   "id": "c471579846cf78c0",
   "outputs": [
    {
     "name": "stdout",
     "output_type": "stream",
     "text": [
      "0 A\n",
      "1 B\n",
      "2 C\n"
     ]
    }
   ],
   "execution_count": 83
  },
  {
   "metadata": {
    "ExecuteTime": {
     "end_time": "2025-07-01T15:45:19.244484Z",
     "start_time": "2025-07-01T15:45:19.239325Z"
    }
   },
   "cell_type": "code",
   "source": "len(['A','B',1])",
   "id": "df9873195f7dbbf6",
   "outputs": [
    {
     "data": {
      "text/plain": [
       "3"
      ]
     },
     "execution_count": 84,
     "metadata": {},
     "output_type": "execute_result"
    }
   ],
   "execution_count": 84
  },
  {
   "metadata": {
    "ExecuteTime": {
     "end_time": "2025-07-01T15:45:24.783408Z",
     "start_time": "2025-07-01T15:45:24.778331Z"
    }
   },
   "cell_type": "code",
   "source": "len([sum([1,1,1])])",
   "id": "da193be34e19d8e2",
   "outputs": [
    {
     "data": {
      "text/plain": [
       "1"
      ]
     },
     "execution_count": 85,
     "metadata": {},
     "output_type": "execute_result"
    }
   ],
   "execution_count": 85
  },
  {
   "metadata": {
    "ExecuteTime": {
     "end_time": "2025-07-01T15:45:44.032917Z",
     "start_time": "2025-07-01T15:45:44.028223Z"
    }
   },
   "cell_type": "code",
   "source": [
    "L=[1,3,2]\n",
    "sorted(L)"
   ],
   "id": "8819e0173c681172",
   "outputs": [
    {
     "data": {
      "text/plain": [
       "[1, 2, 3]"
      ]
     },
     "execution_count": 86,
     "metadata": {},
     "output_type": "execute_result"
    }
   ],
   "execution_count": 86
  },
  {
   "metadata": {
    "ExecuteTime": {
     "end_time": "2025-07-01T15:45:49.776882Z",
     "start_time": "2025-07-01T15:45:49.772313Z"
    }
   },
   "cell_type": "code",
   "source": [
    "def print_function(A):\n",
    "    for a in A:\n",
    "        print(a + '1')\n",
    "print_function(['a', 'b', 'c'])"
   ],
   "id": "a3605b06d287befa",
   "outputs": [
    {
     "name": "stdout",
     "output_type": "stream",
     "text": [
      "a1\n",
      "b1\n",
      "c1\n"
     ]
    }
   ],
   "execution_count": 87
  },
  {
   "metadata": {
    "ExecuteTime": {
     "end_time": "2025-07-01T15:51:02.502147Z",
     "start_time": "2025-07-01T15:51:02.496338Z"
    }
   },
   "cell_type": "code",
   "source": [
    "class Circle(object):\n",
    "    # Constructor\n",
    "    def __init__(self, radius=3, color='blue'):\n",
    "        self.radius = radius\n",
    "        self.color = color\n",
    "\n",
    "    # Method\n",
    "    def add_radius(self, r):\n",
    "        self.radius = self.radius + r\n",
    "        return self.radius\n",
    "\n",
    "CircleObject = Circle()\n",
    "CircleObject.radius = 10\n",
    "CircleObject.radius, CircleObject.color"
   ],
   "id": "218b9ef418b606e9",
   "outputs": [
    {
     "data": {
      "text/plain": [
       "(10, 'blue')"
      ]
     },
     "execution_count": 93,
     "metadata": {},
     "output_type": "execute_result"
    }
   ],
   "execution_count": 93
  },
  {
   "metadata": {
    "ExecuteTime": {
     "end_time": "2025-07-01T15:51:35.146584Z",
     "start_time": "2025-07-01T15:51:35.140866Z"
    }
   },
   "cell_type": "code",
   "source": [
    "class Vehicle:\n",
    "    color = \"white\"\n",
    "\n",
    "\n",
    "    def __init__(self, max_speed, mileage):\n",
    "        self.max_speed = max_speed\n",
    "        self.mileage = mileage\n",
    "        self.seating_capacity = None\n",
    "\n",
    "\n",
    "    def assign_seating_capacity(self, seating_capacity):\n",
    "        self.seating_capacity = seating_capacity\n",
    "\n",
    "\n",
    "V1 = Vehicle(150, 25)\n",
    "V1.color"
   ],
   "id": "6552ca4e6dea9cf8",
   "outputs": [
    {
     "data": {
      "text/plain": [
       "'white'"
      ]
     },
     "execution_count": 96,
     "metadata": {},
     "output_type": "execute_result"
    }
   ],
   "execution_count": 96
  },
  {
   "metadata": {
    "ExecuteTime": {
     "end_time": "2025-07-01T15:53:01.545548Z",
     "start_time": "2025-07-01T15:53:01.540853Z"
    }
   },
   "cell_type": "code",
   "source": [
    "class Vehicle:\n",
    "    color = \"white\"\n",
    "\n",
    "\n",
    "    def __init__(self, max_speed, mileage):\n",
    "        self.max_speed = max_speed\n",
    "        self.mileage = mileage\n",
    "        self.seating_capacity = None\n",
    "\n",
    "\n",
    "    def assign_seating_capacity(self, seating_capacity):\n",
    "        self.seating_capacity = seating_capacity\n",
    "\n",
    "\n",
    "V1 = Vehicle(150, 25)\n"
   ],
   "id": "1e6fe018be607107",
   "outputs": [],
   "execution_count": 97
  },
  {
   "metadata": {
    "ExecuteTime": {
     "end_time": "2025-07-01T15:53:03.672984Z",
     "start_time": "2025-07-01T15:53:03.668797Z"
    }
   },
   "cell_type": "code",
   "source": [
    "class Graph():\n",
    "    def __init__(self, id):\n",
    "        self.id = id\n",
    "        self.id = 80\n",
    "\n",
    "\n",
    "val = Graph(200)\n",
    "print(val.id)"
   ],
   "id": "4e7934251696b0f7",
   "outputs": [
    {
     "name": "stdout",
     "output_type": "stream",
     "text": [
      "80\n"
     ]
    }
   ],
   "execution_count": 98
  },
  {
   "metadata": {
    "ExecuteTime": {
     "end_time": "2025-07-01T15:58:29.634230Z",
     "start_time": "2025-07-01T15:58:29.628177Z"
    }
   },
   "cell_type": "code",
   "source": [
    "c = np.array([100,1,2,3,0])\n",
    "c[0] = 10\n",
    "c"
   ],
   "id": "7aa59f4dcd393d25",
   "outputs": [
    {
     "data": {
      "text/plain": [
       "array([10,  1,  2,  3,  0])"
      ]
     },
     "execution_count": 102,
     "metadata": {},
     "output_type": "execute_result"
    }
   ],
   "execution_count": 102
  },
  {
   "metadata": {},
   "cell_type": "code",
   "outputs": [],
   "execution_count": null,
   "source": "",
   "id": "1f0099c6c8b28339"
  }
 ],
 "metadata": {
  "kernelspec": {
   "display_name": "Python 3",
   "language": "python",
   "name": "python3"
  },
  "language_info": {
   "codemirror_mode": {
    "name": "ipython",
    "version": 2
   },
   "file_extension": ".py",
   "mimetype": "text/x-python",
   "name": "python",
   "nbconvert_exporter": "python",
   "pygments_lexer": "ipython2",
   "version": "2.7.6"
  }
 },
 "nbformat": 4,
 "nbformat_minor": 5
}

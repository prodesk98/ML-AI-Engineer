{
 "cells": [
  {
   "metadata": {
    "ExecuteTime": {
     "end_time": "2025-06-30T15:40:23.033885Z",
     "start_time": "2025-06-30T15:40:23.030234Z"
    }
   },
   "cell_type": "code",
   "source": [
    "import torch\n",
    "from torch import nn\n",
    "from torchtext.data import get_tokenizer\n",
    "from torchtext.vocab import build_vocab_from_iterator"
   ],
   "id": "dc169480365666b4",
   "outputs": [],
   "execution_count": 15
  },
  {
   "cell_type": "code",
   "id": "initial_id",
   "metadata": {
    "collapsed": true,
    "ExecuteTime": {
     "end_time": "2025-06-30T15:35:13.881250Z",
     "start_time": "2025-06-30T15:35:13.877323Z"
    }
   },
   "source": [
    "data = [\n",
    "    \"I like cats\",\n",
    "    \"I like dogs\",\n",
    "    \"I'm impartial to hippos\",\n",
    "]"
   ],
   "outputs": [],
   "execution_count": 1
  },
  {
   "metadata": {
    "ExecuteTime": {
     "end_time": "2025-06-30T15:35:51.322490Z",
     "start_time": "2025-06-30T15:35:49.736176Z"
    }
   },
   "cell_type": "code",
   "source": "tokenizer = get_tokenizer('spacy', \"en_core_web_sm\")",
   "id": "ce9eadbf58da1dc3",
   "outputs": [],
   "execution_count": 3
  },
  {
   "metadata": {
    "ExecuteTime": {
     "end_time": "2025-06-30T15:36:21.495532Z",
     "start_time": "2025-06-30T15:36:21.491711Z"
    }
   },
   "cell_type": "code",
   "source": [
    "def yield_tokens(data_iter):\n",
    "    for sample in data_iter:\n",
    "        yield tokenizer(sample)"
   ],
   "id": "81a758129eecfd5c",
   "outputs": [],
   "execution_count": 4
  },
  {
   "metadata": {
    "ExecuteTime": {
     "end_time": "2025-06-30T15:37:12.488315Z",
     "start_time": "2025-06-30T15:37:12.393937Z"
    }
   },
   "cell_type": "code",
   "source": [
    "data_iter_ = iter(data)\n",
    "vocab = build_vocab_from_iterator(yield_tokens(data_iter_))"
   ],
   "id": "14738cc1a8e2008e",
   "outputs": [],
   "execution_count": 7
  },
  {
   "metadata": {
    "ExecuteTime": {
     "end_time": "2025-06-30T15:38:38.076640Z",
     "start_time": "2025-06-30T15:38:38.072424Z"
    }
   },
   "cell_type": "code",
   "source": "input_ids = lambda x: [torch.tensor(vocab(tokenizer(sample))) for sample in data]",
   "id": "93474dab076bcc38",
   "outputs": [],
   "execution_count": 11
  },
  {
   "metadata": {
    "ExecuteTime": {
     "end_time": "2025-06-30T15:38:38.703608Z",
     "start_time": "2025-06-30T15:38:38.690939Z"
    }
   },
   "cell_type": "code",
   "source": [
    "index = input_ids(data)\n",
    "print(index)"
   ],
   "id": "f1cce554e8d0bc8a",
   "outputs": [
    {
     "name": "stdout",
     "output_type": "stream",
     "text": [
      "[tensor([0, 1, 3]), tensor([0, 1, 4]), tensor([0, 2, 6, 7, 5])]\n"
     ]
    }
   ],
   "execution_count": 12
  },
  {
   "metadata": {
    "ExecuteTime": {
     "end_time": "2025-06-30T15:39:57.008528Z",
     "start_time": "2025-06-30T15:39:57.005205Z"
    }
   },
   "cell_type": "code",
   "source": [
    "embedding_dim = 3\n",
    "n_embedding = len(vocab)"
   ],
   "id": "44bf8a6ccb50aa08",
   "outputs": [],
   "execution_count": 14
  },
  {
   "metadata": {
    "ExecuteTime": {
     "end_time": "2025-06-30T15:40:26.050114Z",
     "start_time": "2025-06-30T15:40:26.041782Z"
    }
   },
   "cell_type": "code",
   "source": "embeds = nn.Embedding(n_embedding, embedding_dim)",
   "id": "9479841487f9d751",
   "outputs": [],
   "execution_count": 16
  },
  {
   "metadata": {
    "ExecuteTime": {
     "end_time": "2025-06-30T15:40:29.225472Z",
     "start_time": "2025-06-30T15:40:29.218385Z"
    }
   },
   "cell_type": "code",
   "source": "embeds",
   "id": "4c9800ff8e7da4a3",
   "outputs": [
    {
     "data": {
      "text/plain": [
       "Embedding(8, 3)"
      ]
     },
     "execution_count": 17,
     "metadata": {},
     "output_type": "execute_result"
    }
   ],
   "execution_count": 17
  },
  {
   "metadata": {
    "ExecuteTime": {
     "end_time": "2025-06-30T15:41:05.703119Z",
     "start_time": "2025-06-30T15:41:05.698118Z"
    }
   },
   "cell_type": "code",
   "source": [
    "i_like_cats = embeds(index[0])\n",
    "print(i_like_cats)"
   ],
   "id": "5f0ddf61bee3698f",
   "outputs": [
    {
     "name": "stdout",
     "output_type": "stream",
     "text": [
      "tensor([[-0.5083,  0.3333,  2.2991],\n",
      "        [ 1.1780, -0.2674, -0.9485],\n",
      "        [-1.6540,  0.1686, -0.0345]], grad_fn=<EmbeddingBackward0>)\n"
     ]
    }
   ],
   "execution_count": 19
  },
  {
   "metadata": {},
   "cell_type": "code",
   "outputs": [],
   "execution_count": null,
   "source": "",
   "id": "3f540b8940a4aed6"
  }
 ],
 "metadata": {
  "kernelspec": {
   "display_name": "Python 3",
   "language": "python",
   "name": "python3"
  },
  "language_info": {
   "codemirror_mode": {
    "name": "ipython",
    "version": 2
   },
   "file_extension": ".py",
   "mimetype": "text/x-python",
   "name": "python",
   "nbconvert_exporter": "python",
   "pygments_lexer": "ipython2",
   "version": "2.7.6"
  }
 },
 "nbformat": 4,
 "nbformat_minor": 5
}

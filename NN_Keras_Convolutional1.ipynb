{
 "cells": [
  {
   "metadata": {
    "ExecuteTime": {
     "end_time": "2025-06-21T00:54:38.322251Z",
     "start_time": "2025-06-21T00:54:38.318049Z"
    }
   },
   "cell_type": "code",
   "source": [
    "import os\n",
    "os.environ['TF_ENABLE_ONEDNN_OPTS'] = '0'\n",
    "os.environ['TF_CPP_MIN_LOG_LEVEL'] = '2'"
   ],
   "id": "67e7937ac68b3163",
   "outputs": [],
   "execution_count": 3
  },
  {
   "metadata": {
    "ExecuteTime": {
     "end_time": "2025-06-21T00:54:52.701583Z",
     "start_time": "2025-06-21T00:54:45.681588Z"
    }
   },
   "cell_type": "code",
   "source": [
    "from keras.models import Sequential\n",
    "from keras.layers import Dense\n",
    "from keras.layers import Input\n",
    "from keras.utils import to_categorical"
   ],
   "id": "b096db4828cf4a6e",
   "outputs": [],
   "execution_count": 4
  },
  {
   "metadata": {
    "ExecuteTime": {
     "end_time": "2025-06-21T00:54:57.463135Z",
     "start_time": "2025-06-21T00:54:57.458888Z"
    }
   },
   "cell_type": "code",
   "source": [
    "from keras.layers import Conv2D # to add convolutional layers\n",
    "from keras.layers import MaxPooling2D # to add pooling layers\n",
    "from keras.layers import Flatten # to flatten data for fully connected layers"
   ],
   "id": "118d6fba78195c8b",
   "outputs": [],
   "execution_count": 5
  },
  {
   "metadata": {
    "ExecuteTime": {
     "end_time": "2025-06-21T00:55:20.113204Z",
     "start_time": "2025-06-21T00:55:17.908403Z"
    }
   },
   "cell_type": "code",
   "source": [
    "from keras.datasets import mnist\n",
    "\n",
    "(X_train, y_train), (X_test, y_test) = mnist.load_data()\n",
    "X_train = X_train.reshape(X_train.shape[0], 28, 28, 1).astype('float32')\n",
    "X_test = X_test.reshape(X_test.shape[0], 28, 28, 1).astype('float32')"
   ],
   "id": "9743093916873f16",
   "outputs": [
    {
     "name": "stdout",
     "output_type": "stream",
     "text": [
      "Downloading data from https://storage.googleapis.com/tensorflow/tf-keras-datasets/mnist.npz\n",
      "\u001B[1m11490434/11490434\u001B[0m \u001B[32m━━━━━━━━━━━━━━━━━━━━\u001B[0m\u001B[37m\u001B[0m \u001B[1m2s\u001B[0m 0us/step\n"
     ]
    }
   ],
   "execution_count": 6
  },
  {
   "metadata": {
    "ExecuteTime": {
     "end_time": "2025-06-21T00:55:26.407995Z",
     "start_time": "2025-06-21T00:55:26.236222Z"
    }
   },
   "cell_type": "code",
   "source": [
    "X_train = X_train / 255 # normalize training data\n",
    "X_test = X_test / 255 # normalize test data"
   ],
   "id": "5bba7cfb82596207",
   "outputs": [],
   "execution_count": 7
  },
  {
   "metadata": {
    "ExecuteTime": {
     "end_time": "2025-06-21T00:55:31.171568Z",
     "start_time": "2025-06-21T00:55:31.163969Z"
    }
   },
   "cell_type": "code",
   "source": [
    "y_train = to_categorical(y_train)\n",
    "y_test = to_categorical(y_test)\n",
    "\n",
    "num_classes = y_test.shape[1] # number of categories"
   ],
   "id": "af4f43ce8f5328b0",
   "outputs": [],
   "execution_count": 8
  },
  {
   "metadata": {
    "ExecuteTime": {
     "end_time": "2025-06-21T00:56:03.985485Z",
     "start_time": "2025-06-21T00:56:03.979157Z"
    }
   },
   "cell_type": "code",
   "source": [
    "def convolutional_model():\n",
    "\n",
    "    # create model\n",
    "    model = Sequential()\n",
    "    model.add(Input(shape=(28, 28, 1)))\n",
    "    model.add(Conv2D(16, (5, 5), strides=(1, 1), activation='relu'))\n",
    "    model.add(MaxPooling2D(pool_size=(2, 2), strides=(2, 2)))\n",
    "\n",
    "    model.add(Flatten())\n",
    "    model.add(Dense(100, activation='relu'))\n",
    "    model.add(Dense(num_classes, activation='softmax'))\n",
    "\n",
    "    # compile model\n",
    "    model.compile(optimizer='adam', loss='categorical_crossentropy',  metrics=['accuracy'])\n",
    "    return model"
   ],
   "id": "e7dfe35b362b1181",
   "outputs": [],
   "execution_count": 9
  },
  {
   "metadata": {
    "ExecuteTime": {
     "end_time": "2025-06-21T00:56:55.142092Z",
     "start_time": "2025-06-21T00:56:09.072273Z"
    }
   },
   "cell_type": "code",
   "source": [
    "# build the model\n",
    "model = convolutional_model()\n",
    "\n",
    "# fit the model\n",
    "model.fit(X_train, y_train, validation_data=(X_test, y_test), epochs=10, batch_size=200, verbose=2)\n",
    "\n",
    "# evaluate the model\n",
    "scores = model.evaluate(X_test, y_test, verbose=0)\n",
    "print(\"Accuracy: {} \\n Error: {}\".format(scores[1], 100-scores[1]*100))"
   ],
   "id": "4a9456682ea4e893",
   "outputs": [
    {
     "name": "stdout",
     "output_type": "stream",
     "text": [
      "Epoch 1/10\n",
      "300/300 - 6s - 19ms/step - accuracy: 0.9219 - loss: 0.2882 - val_accuracy: 0.9741 - val_loss: 0.0912\n",
      "Epoch 2/10\n",
      "300/300 - 4s - 14ms/step - accuracy: 0.9782 - loss: 0.0752 - val_accuracy: 0.9816 - val_loss: 0.0566\n",
      "Epoch 3/10\n",
      "300/300 - 4s - 14ms/step - accuracy: 0.9843 - loss: 0.0531 - val_accuracy: 0.9855 - val_loss: 0.0452\n",
      "Epoch 4/10\n",
      "300/300 - 4s - 14ms/step - accuracy: 0.9874 - loss: 0.0410 - val_accuracy: 0.9842 - val_loss: 0.0442\n",
      "Epoch 5/10\n",
      "300/300 - 4s - 14ms/step - accuracy: 0.9900 - loss: 0.0332 - val_accuracy: 0.9864 - val_loss: 0.0384\n",
      "Epoch 6/10\n",
      "300/300 - 4s - 14ms/step - accuracy: 0.9915 - loss: 0.0271 - val_accuracy: 0.9871 - val_loss: 0.0390\n",
      "Epoch 7/10\n",
      "300/300 - 5s - 15ms/step - accuracy: 0.9929 - loss: 0.0222 - val_accuracy: 0.9871 - val_loss: 0.0371\n",
      "Epoch 8/10\n",
      "300/300 - 4s - 15ms/step - accuracy: 0.9942 - loss: 0.0185 - val_accuracy: 0.9884 - val_loss: 0.0365\n",
      "Epoch 9/10\n",
      "300/300 - 4s - 14ms/step - accuracy: 0.9955 - loss: 0.0151 - val_accuracy: 0.9886 - val_loss: 0.0381\n",
      "Epoch 10/10\n",
      "300/300 - 4s - 14ms/step - accuracy: 0.9964 - loss: 0.0129 - val_accuracy: 0.9881 - val_loss: 0.0374\n",
      "Accuracy: 0.988099992275238 \n",
      " Error: 1.1900007724761963\n"
     ]
    }
   ],
   "execution_count": 10
  },
  {
   "metadata": {},
   "cell_type": "code",
   "outputs": [],
   "execution_count": null,
   "source": "",
   "id": "f08640d379a2ce21"
  }
 ],
 "metadata": {
  "kernelspec": {
   "display_name": "Python 3",
   "language": "python",
   "name": "python3"
  },
  "language_info": {
   "codemirror_mode": {
    "name": "ipython",
    "version": 2
   },
   "file_extension": ".py",
   "mimetype": "text/x-python",
   "name": "python",
   "nbconvert_exporter": "python",
   "pygments_lexer": "ipython2",
   "version": "2.7.6"
  }
 },
 "nbformat": 4,
 "nbformat_minor": 5
}

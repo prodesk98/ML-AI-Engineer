{
 "cells": [
  {
   "cell_type": "code",
   "id": "initial_id",
   "metadata": {
    "collapsed": true,
    "ExecuteTime": {
     "end_time": "2025-06-24T03:38:37.813692Z",
     "start_time": "2025-06-24T03:38:37.805815Z"
    }
   },
   "source": [
    "import torch\n",
    "from torch.utils.data import Dataset\n",
    "torch.manual_seed(42)"
   ],
   "outputs": [
    {
     "data": {
      "text/plain": [
       "<torch._C.Generator at 0x70e714f29810>"
      ]
     },
     "execution_count": 3,
     "metadata": {},
     "output_type": "execute_result"
    }
   ],
   "execution_count": 3
  },
  {
   "metadata": {
    "ExecuteTime": {
     "end_time": "2025-06-24T03:40:10.353451Z",
     "start_time": "2025-06-24T03:40:10.349Z"
    }
   },
   "cell_type": "code",
   "source": [
    "class MyDataset(Dataset):\n",
    "    def __init__(self, length = 100, transform=None):\n",
    "        self.length = length\n",
    "        self.transform = transform\n",
    "        self.X = 2 * torch.ones(length, 2)\n",
    "        self.y = torch.ones(length, 1)\n",
    "\n",
    "    # Get Item\n",
    "    def __getitem__(self, index):\n",
    "        sample = self.X[index], self.y[index]\n",
    "        if self.transform:\n",
    "            sample = self.transform(sample)\n",
    "        return sample\n",
    "\n",
    "    # Get Length\n",
    "    def __len__(self):\n",
    "        return self.length"
   ],
   "id": "105572b0be2db291",
   "outputs": [],
   "execution_count": 4
  },
  {
   "metadata": {
    "ExecuteTime": {
     "end_time": "2025-06-24T03:40:33.303590Z",
     "start_time": "2025-06-24T03:40:33.293141Z"
    }
   },
   "cell_type": "code",
   "source": [
    "myDataset = MyDataset()\n",
    "print(\"Object:\", myDataset)\n",
    "print(\"First Item:\", myDataset[0])\n",
    "print(\"Length:\", len(myDataset))"
   ],
   "id": "d4da65046bc6ae3c",
   "outputs": [
    {
     "name": "stdout",
     "output_type": "stream",
     "text": [
      "Object: <__main__.MyDataset object at 0x70e622e30530>\n",
      "First Item: (tensor([2., 2.]), tensor([1.]))\n",
      "Length: 100\n"
     ]
    }
   ],
   "execution_count": 5
  },
  {
   "metadata": {
    "ExecuteTime": {
     "end_time": "2025-06-24T03:40:54.427739Z",
     "start_time": "2025-06-24T03:40:54.421319Z"
    }
   },
   "cell_type": "code",
   "source": [
    "for i in range(3):\n",
    "    x, y = myDataset[i]\n",
    "    print(f\"Item {i}: X = {x}, y = {y}\")"
   ],
   "id": "a486a97869d3176d",
   "outputs": [
    {
     "name": "stdout",
     "output_type": "stream",
     "text": [
      "Item 0: X = tensor([2., 2.]), y = tensor([1.])\n",
      "Item 1: X = tensor([2., 2.]), y = tensor([1.])\n",
      "Item 2: X = tensor([2., 2.]), y = tensor([1.])\n"
     ]
    }
   ],
   "execution_count": 6
  },
  {
   "metadata": {
    "ExecuteTime": {
     "end_time": "2025-06-24T03:43:36.549833Z",
     "start_time": "2025-06-24T03:43:36.545343Z"
    }
   },
   "cell_type": "code",
   "source": [
    "class AddMult(object):\n",
    "    def __init__(self, addx = 1, multx = 2):\n",
    "        self.addx = addx\n",
    "        self.multx = multx\n",
    "\n",
    "    def __call__(self, sample):\n",
    "        x_, y_ = sample[0], sample[1]\n",
    "        x_ += self.addx\n",
    "        y_ *= self.multx\n",
    "        return x_, y_"
   ],
   "id": "9dde819f60c258df",
   "outputs": [],
   "execution_count": 7
  },
  {
   "metadata": {
    "ExecuteTime": {
     "end_time": "2025-06-24T03:43:52.354883Z",
     "start_time": "2025-06-24T03:43:52.351043Z"
    }
   },
   "cell_type": "code",
   "source": [
    "am = AddMult()\n",
    "myDataset = MyDataset(transform=am)"
   ],
   "id": "53a1dd09b6931bde",
   "outputs": [],
   "execution_count": 8
  },
  {
   "metadata": {
    "ExecuteTime": {
     "end_time": "2025-06-24T03:45:38.113809Z",
     "start_time": "2025-06-24T03:45:38.102659Z"
    }
   },
   "cell_type": "code",
   "source": [
    "for i in range(10):\n",
    "    x, y = myDataset[i]\n",
    "    print(f\"Transformed Item {i}: X = {x}, y = {y}\")"
   ],
   "id": "8f1d6da38aeaf43",
   "outputs": [
    {
     "name": "stdout",
     "output_type": "stream",
     "text": [
      "Transformed Item 0: X = tensor([9., 9.]), y = tensor([128.])\n",
      "Transformed Item 1: X = tensor([9., 9.]), y = tensor([128.])\n",
      "Transformed Item 2: X = tensor([9., 9.]), y = tensor([128.])\n",
      "Transformed Item 3: X = tensor([9., 9.]), y = tensor([128.])\n",
      "Transformed Item 4: X = tensor([9., 9.]), y = tensor([128.])\n",
      "Transformed Item 5: X = tensor([9., 9.]), y = tensor([128.])\n",
      "Transformed Item 6: X = tensor([9., 9.]), y = tensor([128.])\n",
      "Transformed Item 7: X = tensor([9., 9.]), y = tensor([128.])\n",
      "Transformed Item 8: X = tensor([9., 9.]), y = tensor([128.])\n",
      "Transformed Item 9: X = tensor([9., 9.]), y = tensor([128.])\n"
     ]
    }
   ],
   "execution_count": 13
  },
  {
   "metadata": {},
   "cell_type": "code",
   "outputs": [],
   "execution_count": null,
   "source": "",
   "id": "837699263269179d"
  }
 ],
 "metadata": {
  "kernelspec": {
   "display_name": "Python 3 (ipykernel)",
   "language": "python",
   "name": "python3"
  },
  "language_info": {
   "codemirror_mode": {
    "name": "ipython",
    "version": 2
   },
   "file_extension": ".py",
   "mimetype": "text/x-python",
   "name": "python",
   "nbconvert_exporter": "python",
   "pygments_lexer": "ipython2",
   "version": "2.7.6"
  }
 },
 "nbformat": 4,
 "nbformat_minor": 5
}

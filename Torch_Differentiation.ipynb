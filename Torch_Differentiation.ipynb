{
 "cells": [
  {
   "cell_type": "code",
   "id": "initial_id",
   "metadata": {
    "collapsed": true,
    "ExecuteTime": {
     "end_time": "2025-06-24T03:25:24.821208Z",
     "start_time": "2025-06-24T03:25:22.275229Z"
    }
   },
   "source": [
    "import torch\n",
    "import matplotlib.pyplot as plt"
   ],
   "outputs": [],
   "execution_count": 2
  },
  {
   "metadata": {
    "ExecuteTime": {
     "end_time": "2025-06-24T03:25:25.893485Z",
     "start_time": "2025-06-24T03:25:25.854453Z"
    }
   },
   "cell_type": "code",
   "source": [
    "x = torch.tensor(2.0, requires_grad=True)\n",
    "print(\"the tensor x is:\", x)"
   ],
   "id": "eae9aee18f2634e6",
   "outputs": [
    {
     "name": "stdout",
     "output_type": "stream",
     "text": [
      "the tensor x is: tensor(2., requires_grad=True)\n"
     ]
    }
   ],
   "execution_count": 3
  },
  {
   "metadata": {
    "ExecuteTime": {
     "end_time": "2025-06-24T03:26:01.211738Z",
     "start_time": "2025-06-24T03:26:01.204820Z"
    }
   },
   "cell_type": "code",
   "source": [
    "y = x ** 2\n",
    "print(\"The tensor y = x^2 is:\", y)"
   ],
   "id": "6879cd6914eee4b2",
   "outputs": [
    {
     "name": "stdout",
     "output_type": "stream",
     "text": [
      "The tensor y = x^2 is: tensor(4., grad_fn=<PowBackward0>)\n"
     ]
    }
   ],
   "execution_count": 5
  },
  {
   "metadata": {
    "ExecuteTime": {
     "end_time": "2025-06-24T03:26:21.283698Z",
     "start_time": "2025-06-24T03:26:21.193155Z"
    }
   },
   "cell_type": "code",
   "source": [
    "y.backward()\n",
    "print(\"The gradient of y with respect to x is:\", x.grad)"
   ],
   "id": "dc819fcbc7b018dd",
   "outputs": [
    {
     "name": "stdout",
     "output_type": "stream",
     "text": [
      "The gradient of y with respect to x is: tensor(4.)\n"
     ]
    }
   ],
   "execution_count": 6
  },
  {
   "metadata": {
    "ExecuteTime": {
     "end_time": "2025-06-24T03:29:07.161584Z",
     "start_time": "2025-06-24T03:29:07.157124Z"
    }
   },
   "cell_type": "code",
   "source": [
    "class SQ(torch.autograd.Function):\n",
    "    @staticmethod\n",
    "    def forward(ctx, i):\n",
    "        result = i**2\n",
    "        ctx.save_for_backward(i)\n",
    "        return result\n",
    "\n",
    "    @staticmethod\n",
    "    def backward(ctx, grad_output): # noqa\n",
    "        i, = ctx.saved_tensors\n",
    "        grad_output = 2 * i\n",
    "        return grad_output"
   ],
   "id": "71428f0a070e3725",
   "outputs": [],
   "execution_count": 7
  },
  {
   "metadata": {
    "ExecuteTime": {
     "end_time": "2025-06-24T03:29:24.893600Z",
     "start_time": "2025-06-24T03:29:24.886736Z"
    }
   },
   "cell_type": "code",
   "source": [
    "x=torch.tensor(2.0,requires_grad=True)\n",
    "sq = SQ.apply\n",
    "y = sq(x)\n",
    "print(\"The tensor y = x^2 is:\", y)"
   ],
   "id": "2e965be8837683b6",
   "outputs": [
    {
     "name": "stdout",
     "output_type": "stream",
     "text": [
      "The tensor y = x^2 is: tensor(4., grad_fn=<SQBackward>)\n"
     ]
    }
   ],
   "execution_count": 8
  },
  {
   "metadata": {
    "ExecuteTime": {
     "end_time": "2025-06-24T03:29:43.368651Z",
     "start_time": "2025-06-24T03:29:43.360020Z"
    }
   },
   "cell_type": "code",
   "source": [
    "y.backward()\n",
    "x.grad"
   ],
   "id": "b0d7089873de4c4f",
   "outputs": [
    {
     "data": {
      "text/plain": [
       "tensor(4.)"
      ]
     },
     "execution_count": 9,
     "metadata": {},
     "output_type": "execute_result"
    }
   ],
   "execution_count": 9
  },
  {
   "metadata": {},
   "cell_type": "code",
   "outputs": [],
   "execution_count": null,
   "source": "",
   "id": "9f8f6a8a08082a03"
  }
 ],
 "metadata": {
  "kernelspec": {
   "display_name": "Python 3",
   "language": "python",
   "name": "python3"
  },
  "language_info": {
   "codemirror_mode": {
    "name": "ipython",
    "version": 2
   },
   "file_extension": ".py",
   "mimetype": "text/x-python",
   "name": "python",
   "nbconvert_exporter": "python",
   "pygments_lexer": "ipython2",
   "version": "2.7.6"
  }
 },
 "nbformat": 4,
 "nbformat_minor": 5
}

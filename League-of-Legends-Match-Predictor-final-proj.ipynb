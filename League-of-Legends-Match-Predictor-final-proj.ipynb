{
 "cells": [
  {
   "cell_type": "code",
   "id": "initial_id",
   "metadata": {
    "collapsed": true,
    "ExecuteTime": {
     "end_time": "2025-06-24T05:29:29.252984Z",
     "start_time": "2025-06-24T05:29:29.247766Z"
    }
   },
   "source": [
    "import torch\n",
    "from torch import nn, optim\n",
    "import pandas as pd\n",
    "from sklearn.preprocessing import StandardScaler\n",
    "from sklearn.model_selection import train_test_split\n",
    "\n",
    "device = torch.device(\"cuda\" if torch.cuda.is_available() else \"cpu\")\n",
    "print(device)"
   ],
   "outputs": [
    {
     "name": "stdout",
     "output_type": "stream",
     "text": [
      "cuda\n"
     ]
    }
   ],
   "execution_count": 13
  },
  {
   "metadata": {
    "ExecuteTime": {
     "end_time": "2025-06-24T05:18:50.178994Z",
     "start_time": "2025-06-24T05:18:48.919352Z"
    }
   },
   "cell_type": "code",
   "source": "!wget https://cf-courses-data.s3.us.cloud-object-storage.appdomain.cloud/rk7VDaPjMp1h5VXS-cUyMg/league-of-legends-data-large.csv -O dataset/league_of_legends_data.csv",
   "id": "b0b07c298e971fd1",
   "outputs": [
    {
     "name": "stdout",
     "output_type": "stream",
     "text": [
      "--2025-06-24 02:18:48--  https://cf-courses-data.s3.us.cloud-object-storage.appdomain.cloud/rk7VDaPjMp1h5VXS-cUyMg/league-of-legends-data-large.csv\r\n",
      "Resolving cf-courses-data.s3.us.cloud-object-storage.appdomain.cloud (cf-courses-data.s3.us.cloud-object-storage.appdomain.cloud)... 198.23.119.245\r\n",
      "Connecting to cf-courses-data.s3.us.cloud-object-storage.appdomain.cloud (cf-courses-data.s3.us.cloud-object-storage.appdomain.cloud)|198.23.119.245|:443... connected.\r\n",
      "HTTP request sent, awaiting response... 200 OK\r\n",
      "Length: 29451 (29K) [text/csv]\r\n",
      "Saving to: ‘dataset/league_of_legends_data.csv’\r\n",
      "\r\n",
      "dataset/league_of_l 100%[===================>]  28.76K  --.-KB/s    in 0.08s   \r\n",
      "\r\n",
      "2025-06-24 02:18:50 (362 KB/s) - ‘dataset/league_of_legends_data.csv’ saved [29451/29451]\r\n",
      "\r\n"
     ]
    }
   ],
   "execution_count": 2
  },
  {
   "metadata": {
    "ExecuteTime": {
     "end_time": "2025-06-24T05:29:32.743837Z",
     "start_time": "2025-06-24T05:29:32.728517Z"
    }
   },
   "cell_type": "code",
   "source": [
    "df = pd.read_csv('dataset/league_of_legends_data.csv')\n",
    "df.head()"
   ],
   "id": "50f2d89bd8509fa8",
   "outputs": [
    {
     "data": {
      "text/plain": [
       "   win  kills  deaths  assists  gold_earned   cs  wards_placed  wards_killed  \\\n",
       "0    0     16       6       19        17088  231            11             7   \n",
       "1    1      8       8        5        14865  259            10             2   \n",
       "2    0      0      17       11        15919  169            14             5   \n",
       "3    0     19      11        1        11534  264            14             3   \n",
       "4    0     12       7        6        18926  124            15             7   \n",
       "\n",
       "   damage_dealt  \n",
       "0         15367  \n",
       "1         38332  \n",
       "2         24642  \n",
       "3         15789  \n",
       "4         40268  "
      ],
      "text/html": [
       "<div>\n",
       "<style scoped>\n",
       "    .dataframe tbody tr th:only-of-type {\n",
       "        vertical-align: middle;\n",
       "    }\n",
       "\n",
       "    .dataframe tbody tr th {\n",
       "        vertical-align: top;\n",
       "    }\n",
       "\n",
       "    .dataframe thead th {\n",
       "        text-align: right;\n",
       "    }\n",
       "</style>\n",
       "<table border=\"1\" class=\"dataframe\">\n",
       "  <thead>\n",
       "    <tr style=\"text-align: right;\">\n",
       "      <th></th>\n",
       "      <th>win</th>\n",
       "      <th>kills</th>\n",
       "      <th>deaths</th>\n",
       "      <th>assists</th>\n",
       "      <th>gold_earned</th>\n",
       "      <th>cs</th>\n",
       "      <th>wards_placed</th>\n",
       "      <th>wards_killed</th>\n",
       "      <th>damage_dealt</th>\n",
       "    </tr>\n",
       "  </thead>\n",
       "  <tbody>\n",
       "    <tr>\n",
       "      <th>0</th>\n",
       "      <td>0</td>\n",
       "      <td>16</td>\n",
       "      <td>6</td>\n",
       "      <td>19</td>\n",
       "      <td>17088</td>\n",
       "      <td>231</td>\n",
       "      <td>11</td>\n",
       "      <td>7</td>\n",
       "      <td>15367</td>\n",
       "    </tr>\n",
       "    <tr>\n",
       "      <th>1</th>\n",
       "      <td>1</td>\n",
       "      <td>8</td>\n",
       "      <td>8</td>\n",
       "      <td>5</td>\n",
       "      <td>14865</td>\n",
       "      <td>259</td>\n",
       "      <td>10</td>\n",
       "      <td>2</td>\n",
       "      <td>38332</td>\n",
       "    </tr>\n",
       "    <tr>\n",
       "      <th>2</th>\n",
       "      <td>0</td>\n",
       "      <td>0</td>\n",
       "      <td>17</td>\n",
       "      <td>11</td>\n",
       "      <td>15919</td>\n",
       "      <td>169</td>\n",
       "      <td>14</td>\n",
       "      <td>5</td>\n",
       "      <td>24642</td>\n",
       "    </tr>\n",
       "    <tr>\n",
       "      <th>3</th>\n",
       "      <td>0</td>\n",
       "      <td>19</td>\n",
       "      <td>11</td>\n",
       "      <td>1</td>\n",
       "      <td>11534</td>\n",
       "      <td>264</td>\n",
       "      <td>14</td>\n",
       "      <td>3</td>\n",
       "      <td>15789</td>\n",
       "    </tr>\n",
       "    <tr>\n",
       "      <th>4</th>\n",
       "      <td>0</td>\n",
       "      <td>12</td>\n",
       "      <td>7</td>\n",
       "      <td>6</td>\n",
       "      <td>18926</td>\n",
       "      <td>124</td>\n",
       "      <td>15</td>\n",
       "      <td>7</td>\n",
       "      <td>40268</td>\n",
       "    </tr>\n",
       "  </tbody>\n",
       "</table>\n",
       "</div>"
      ]
     },
     "execution_count": 14,
     "metadata": {},
     "output_type": "execute_result"
    }
   ],
   "execution_count": 14
  },
  {
   "metadata": {
    "ExecuteTime": {
     "end_time": "2025-06-24T05:29:34.711374Z",
     "start_time": "2025-06-24T05:29:34.693502Z"
    }
   },
   "cell_type": "code",
   "source": [
    "y = df['win'] # Target variable\n",
    "X = df.drop(columns=['win']) # Features\n",
    "\n",
    "# Task 1: Load and preprocess the dataset\n",
    "X_train, X_test, y_train, y_test = train_test_split(X, y, test_size=0.2, random_state=42)\n",
    "\n",
    "# Normalize\n",
    "scaler = StandardScaler()\n",
    "X_train = scaler.fit_transform(X_train)\n",
    "X_test = scaler.transform(X_test)\n",
    "\n",
    "# Convert to PyTorch tensors\n",
    "X_train = torch.tensor(X_train, dtype=torch.float32).to(device)\n",
    "X_test = torch.tensor(X_test, dtype=torch.float32).to(device)\n",
    "y_train = torch.tensor(y_train.values, dtype=torch.float32).unsqueeze(1).to(device)\n",
    "y_test = torch.tensor(y_test.values, dtype=torch.float32).unsqueeze(1).to(device)\n",
    "\n",
    "# Check shapes\n",
    "X_train.shape, y_train.shape, X_test.shape, y_test.shape"
   ],
   "id": "d51f0b4b080fcc67",
   "outputs": [
    {
     "data": {
      "text/plain": [
       "(torch.Size([800, 8]),\n",
       " torch.Size([800, 1]),\n",
       " torch.Size([200, 8]),\n",
       " torch.Size([200, 1]))"
      ]
     },
     "execution_count": 15,
     "metadata": {},
     "output_type": "execute_result"
    }
   ],
   "execution_count": 15
  },
  {
   "metadata": {
    "ExecuteTime": {
     "end_time": "2025-06-24T05:29:36.511550Z",
     "start_time": "2025-06-24T05:29:36.493497Z"
    }
   },
   "cell_type": "code",
   "source": [
    "# Task 2: Implement a logistic regression model using PyTorch\n",
    "\n",
    "class LogisticRegressionModel(nn.Module):\n",
    "    def __init__(self, input_dim):\n",
    "        super(LogisticRegressionModel, self).__init__()\n",
    "        self.linear = nn.Linear(input_dim, 1)\n",
    "        self.sigmoid = nn.Sigmoid()\n",
    "\n",
    "    def forward(self, x):\n",
    "        x = self.linear(x)\n",
    "        return self.sigmoid(x)\n",
    "\n",
    "# Initialize the model\n",
    "model = LogisticRegressionModel(input_dim=X_train.shape[1]).to(device)\n",
    "criterion = nn.MSELoss()\n",
    "optimizer = optim.SGD(model.parameters(), lr=0.01)\n",
    "model.state_dict()"
   ],
   "id": "be1dbc68cd14757d",
   "outputs": [
    {
     "data": {
      "text/plain": [
       "OrderedDict([('linear.weight',\n",
       "              tensor([[-0.2934, -0.0899,  0.2817,  0.1063,  0.2496, -0.0246,  0.3253,  0.0722]],\n",
       "                     device='cuda:0')),\n",
       "             ('linear.bias', tensor([0.0423], device='cuda:0'))])"
      ]
     },
     "execution_count": 16,
     "metadata": {},
     "output_type": "execute_result"
    }
   ],
   "execution_count": 16
  },
  {
   "metadata": {
    "ExecuteTime": {
     "end_time": "2025-06-24T05:29:39.609860Z",
     "start_time": "2025-06-24T05:29:38.455515Z"
    }
   },
   "cell_type": "code",
   "source": [
    "# Task 3: Train the logistic regression model on the dataset.\n",
    "epochs = 1000\n",
    "for epoch in range(epochs):\n",
    "    model.train()\n",
    "    optimizer.zero_grad()\n",
    "    predictions = model(X_train)\n",
    "    loss = criterion(predictions, y_train)\n",
    "    loss.backward()\n",
    "    optimizer.step()\n",
    "\n",
    "    # Evaluate accuracy every 100 epochs\n",
    "    if epoch % 100 == 0:\n",
    "        with torch.inference_mode():\n",
    "\n",
    "            # Convert predictions to 0 or 1 for accuracy calculation\n",
    "            y_pred_train = (predictions >= 0.5).float()\n",
    "            train_accuracy = (y_pred_train.eq(y_train).sum().item()) / y_train.size(0)\n",
    "\n",
    "            model.eval()\n",
    "            y_pred_test = (model(X_test) >= 0.5).float()\n",
    "            test_accuracy = (y_pred_test.eq(y_test).sum().item()) / y_test.size(0)\n",
    "            print(f\"Epoch {epoch}: Loss={loss.item():.4f}, Train Accuracy={train_accuracy:.4f} Test Accuracy={test_accuracy:.4f}\")"
   ],
   "id": "bbd2c110b4c8543f",
   "outputs": [
    {
     "name": "stdout",
     "output_type": "stream",
     "text": [
      "Epoch 0: Loss=0.2752, Train Accuracy=0.4688 Test Accuracy=0.5300\n",
      "Epoch 100: Loss=0.2461, Train Accuracy=0.5437 Test Accuracy=0.5050\n",
      "Epoch 200: Loss=0.2461, Train Accuracy=0.5463 Test Accuracy=0.5050\n",
      "Epoch 300: Loss=0.2461, Train Accuracy=0.5463 Test Accuracy=0.5050\n",
      "Epoch 400: Loss=0.2461, Train Accuracy=0.5463 Test Accuracy=0.5050\n",
      "Epoch 500: Loss=0.2461, Train Accuracy=0.5463 Test Accuracy=0.5050\n",
      "Epoch 600: Loss=0.2461, Train Accuracy=0.5463 Test Accuracy=0.5050\n",
      "Epoch 700: Loss=0.2461, Train Accuracy=0.5463 Test Accuracy=0.5050\n",
      "Epoch 800: Loss=0.2461, Train Accuracy=0.5463 Test Accuracy=0.5050\n",
      "Epoch 900: Loss=0.2461, Train Accuracy=0.5463 Test Accuracy=0.5050\n"
     ]
    }
   ],
   "execution_count": 17
  },
  {
   "metadata": {
    "ExecuteTime": {
     "end_time": "2025-06-24T05:36:38.720004Z",
     "start_time": "2025-06-24T05:36:38.696662Z"
    }
   },
   "cell_type": "code",
   "source": [
    "model = LogisticRegressionModel(input_dim=X_train.shape[1]).to(device)\n",
    "criterion = nn.MSELoss()\n",
    "optimizer = optim.SGD(model.parameters(), lr=0.01, weight_decay=0.01)\n",
    "model.state_dict()"
   ],
   "id": "6f779d94057de317",
   "outputs": [
    {
     "data": {
      "text/plain": [
       "OrderedDict([('linear.weight',\n",
       "              tensor([[-0.3109,  0.2797,  0.0638, -0.1560,  0.1813, -0.1774, -0.1401, -0.1790]],\n",
       "                     device='cuda:0')),\n",
       "             ('linear.bias', tensor([-0.1199], device='cuda:0'))])"
      ]
     },
     "execution_count": 18,
     "metadata": {},
     "output_type": "execute_result"
    }
   ],
   "execution_count": 18
  },
  {
   "metadata": {
    "ExecuteTime": {
     "end_time": "2025-06-24T05:36:52.355180Z",
     "start_time": "2025-06-24T05:36:51.429268Z"
    }
   },
   "cell_type": "code",
   "source": [
    "epochs = 1000\n",
    "for epoch in range(epochs):\n",
    "    model.train()\n",
    "    optimizer.zero_grad()\n",
    "    predictions = model(X_train)\n",
    "    loss = criterion(predictions, y_train)\n",
    "    loss.backward()\n",
    "    optimizer.step()\n",
    "\n",
    "    # Evaluate accuracy every 100 epochs\n",
    "    if epoch % 100 == 0:\n",
    "        with torch.inference_mode():\n",
    "\n",
    "            # Convert predictions to 0 or 1 for accuracy calculation\n",
    "            y_pred_train = (predictions >= 0.5).float()\n",
    "            train_accuracy = (y_pred_train.eq(y_train).sum().item()) / y_train.size(0)\n",
    "\n",
    "            model.eval()\n",
    "            y_pred_test = (model(X_test) >= 0.5).float()\n",
    "            test_accuracy = (y_pred_test.eq(y_test).sum().item()) / y_test.size(0)\n",
    "            print(f\"Epoch {epoch}: Loss={loss.item():.4f}, Train Accuracy={train_accuracy:.4f} Test Accuracy={test_accuracy:.4f}\")"
   ],
   "id": "d538f0b8d2fe7dd8",
   "outputs": [
    {
     "name": "stdout",
     "output_type": "stream",
     "text": [
      "Epoch 0: Loss=0.2797, Train Accuracy=0.4625 Test Accuracy=0.4800\n",
      "Epoch 100: Loss=0.2736, Train Accuracy=0.4713 Test Accuracy=0.4750\n",
      "Epoch 200: Loss=0.2683, Train Accuracy=0.4675 Test Accuracy=0.4600\n",
      "Epoch 300: Loss=0.2637, Train Accuracy=0.4688 Test Accuracy=0.4650\n",
      "Epoch 400: Loss=0.2599, Train Accuracy=0.4713 Test Accuracy=0.4950\n",
      "Epoch 500: Loss=0.2568, Train Accuracy=0.4788 Test Accuracy=0.5050\n",
      "Epoch 600: Loss=0.2543, Train Accuracy=0.4888 Test Accuracy=0.5150\n",
      "Epoch 700: Loss=0.2524, Train Accuracy=0.5062 Test Accuracy=0.5150\n",
      "Epoch 800: Loss=0.2509, Train Accuracy=0.5225 Test Accuracy=0.5050\n",
      "Epoch 900: Loss=0.2498, Train Accuracy=0.5238 Test Accuracy=0.4950\n"
     ]
    }
   ],
   "execution_count": 19
  },
  {
   "metadata": {
    "ExecuteTime": {
     "end_time": "2025-06-24T05:37:14.723511Z",
     "start_time": "2025-06-24T05:37:14.433041Z"
    }
   },
   "cell_type": "code",
   "source": [
    "import matplotlib.pyplot as plt\n",
    "from sklearn.metrics import confusion_matrix, classification_report, roc_curve, auc\n",
    "import itertools\n",
    "\n",
    "# Visualize the confusion matrix\n",
    "#Change the variable names as used in your code\n",
    "y_pred_test_labels = (y_pred_test.to('cpu') > 0.5).float()\n",
    "cm = confusion_matrix(y_test.to('cpu'), y_pred_test_labels)\n",
    "\n",
    "plt.figure(figsize=(6, 6))\n",
    "plt.imshow(cm, interpolation='nearest', cmap=plt.cm.Blues)\n",
    "plt.title('Confusion Matrix')\n",
    "plt.colorbar()\n",
    "tick_marks = range(2)\n",
    "plt.xticks(tick_marks, ['Loss', 'Win'], rotation=45)\n",
    "plt.yticks(tick_marks, ['Loss', 'Win'])\n",
    "\n",
    "thresh = cm.max() / 2\n",
    "for i, j in itertools.product(range(cm.shape[0]), range(cm.shape[1])):\n",
    "    plt.text(j, i, cm[i, j], horizontalalignment=\"center\", color=\"white\" if cm[i, j] > thresh else \"black\")\n",
    "\n",
    "plt.tight_layout()\n",
    "plt.ylabel('True label')\n",
    "plt.xlabel('Predicted label')\n",
    "plt.show()\n",
    "\n",
    "# Print classification report\n",
    "print(\"Classification Report:\\n\", classification_report(y_test.to('cpu'), y_pred_test_labels, target_names=['Loss', 'Win']))\n",
    "\n",
    "# Plot ROC curve\n",
    "fpr, tpr, thresholds = roc_curve(y_test.to('cpu'), y_pred_test.to('cpu'))\n",
    "roc_auc = auc(fpr, tpr)\n",
    "\n",
    "plt.figure()\n",
    "plt.plot(fpr, tpr, color='darkorange', lw=2, label=f'ROC curve (area = {roc_auc:.2f})')\n",
    "plt.plot([0, 1], [0, 1], color='navy', lw=2, linestyle='--')\n",
    "plt.xlim([0.0, 1.0])\n",
    "plt.ylim([0.0, 1.05])\n",
    "plt.xlabel('False Positive Rate')\n",
    "plt.ylabel('True Positive Rate')\n",
    "plt.title('Receiver Operating Characteristic (ROC)')\n",
    "plt.legend(loc=\"lower right\")\n",
    "plt.show()"
   ],
   "id": "ac58d198f65cf1d2",
   "outputs": [
    {
     "data": {
      "text/plain": [
       "<Figure size 600x600 with 2 Axes>"
      ],
      "image/png": "[encoded data removed]"
     },
     "metadata": {},
     "output_type": "display_data"
    },
    {
     "name": "stdout",
     "output_type": "stream",
     "text": [
      "Classification Report:\n",
      "               precision    recall  f1-score   support\n",
      "\n",
      "        Loss       0.47      0.53      0.50        95\n",
      "         Win       0.52      0.47      0.49       105\n",
      "\n",
      "    accuracy                           0.49       200\n",
      "   macro avg       0.50      0.50      0.49       200\n",
      "weighted avg       0.50      0.49      0.49       200\n",
      "\n"
     ]
    },
    {
     "data": {
      "text/plain": [
       "<Figure size 640x480 with 1 Axes>"
      ],
      "image/png": "[encoded data removed]"
     },
     "metadata": {},
     "output_type": "display_data"
    }
   ],
   "execution_count": 20
  },
  {
   "metadata": {
    "ExecuteTime": {
     "end_time": "2025-06-24T05:38:46.581848Z",
     "start_time": "2025-06-24T05:38:46.568165Z"
    }
   },
   "cell_type": "code",
   "source": "torch.save(model.state_dict(), 'model.pth')",
   "id": "8a510b622198f4e6",
   "outputs": [],
   "execution_count": 21
  },
  {
   "metadata": {
    "ExecuteTime": {
     "end_time": "2025-06-24T05:38:58.499187Z",
     "start_time": "2025-06-24T05:38:58.479682Z"
    }
   },
   "cell_type": "code",
   "source": [
    "# Load the model\n",
    "model = LogisticRegressionModel(X_train.shape[1]).to(device)\n",
    "model.load_state_dict(torch.load('model.pth'))\n",
    "\n",
    "# Ensure the loaded model is in evaluation mode\n",
    "model.eval()\n",
    "\n",
    "# Evaluate the loaded model\n",
    "with torch.inference_mode():\n",
    "  y_pred_test = model(X_test)\n",
    "  y_pred_test_labels = (y_pred_test >= 0.5).float()\n",
    "  test_accuracy = (y_pred_test_labels.eq(y_test).sum().item()) / y_test.size(0)\n",
    "  print(f\"Test Accuracy: {test_accuracy:.4f}\")"
   ],
   "id": "aec0ed1f8211edb0",
   "outputs": [
    {
     "name": "stdout",
     "output_type": "stream",
     "text": [
      "Test Accuracy: 0.4950\n"
     ]
    }
   ],
   "execution_count": 22
  },
  {
   "metadata": {
    "ExecuteTime": {
     "end_time": "2025-06-24T05:39:18.007326Z",
     "start_time": "2025-06-24T05:39:15.425251Z"
    }
   },
   "cell_type": "code",
   "source": [
    "lr_rates = [0.01, 0.05, 0.1]\n",
    "epochs = 1000\n",
    "\n",
    "for idx, lr_rate in enumerate(lr_rates):\n",
    "\n",
    "  print(f\"\\n\\nTraining: {idx}, Learning rate: {lr_rate}\")\n",
    "\n",
    "  model = LogisticRegressionModel(X_train.shape[1]).to(device)\n",
    "  criterion = nn.BCELoss()\n",
    "  optimizer = optim.SGD(model.parameters(), lr=lr_rate, weight_decay=0.01)\n",
    "\n",
    "  for epoch in range(epochs):\n",
    "      model.train()\n",
    "      optimizer.zero_grad()\n",
    "      predictions = model(X_train)\n",
    "      loss = criterion(predictions, y_train)\n",
    "      loss.backward()\n",
    "      optimizer.step()\n",
    "\n",
    "      # Evaluate accuracy every 100 epochs\n",
    "      if epoch % 100 == 0:\n",
    "          with torch.inference_mode():\n",
    "\n",
    "              # Convert predictions to 0 or 1 for accuracy calculation\n",
    "              y_pred_train = (predictions >= 0.5).float()\n",
    "              train_accuracy = (y_pred_train.eq(y_train).sum().item()) / y_train.size(0)\n",
    "\n",
    "              model.eval()\n",
    "              y_pred_test = (model(X_test) >= 0.5).float()\n",
    "              test_accuracy = (y_pred_test.eq(y_test).sum().item()) / y_test.size(0)\n",
    "              print(f\"Epoch {epoch}: Loss={loss.item():.4f}, Train Accuracy={train_accuracy:.4f} Test Accuracy={test_accuracy:.4f}\")"
   ],
   "id": "97fd6df614bfa885",
   "outputs": [
    {
     "name": "stdout",
     "output_type": "stream",
     "text": [
      "\n",
      "\n",
      "Training: 0, Learning rate: 0.01\n",
      "Epoch 0: Loss=0.7356, Train Accuracy=0.4838 Test Accuracy=0.4900\n",
      "Epoch 100: Loss=0.7157, Train Accuracy=0.4750 Test Accuracy=0.4700\n",
      "Epoch 200: Loss=0.7034, Train Accuracy=0.5025 Test Accuracy=0.4700\n",
      "Epoch 300: Loss=0.6961, Train Accuracy=0.5162 Test Accuracy=0.4600\n",
      "Epoch 400: Loss=0.6917, Train Accuracy=0.5337 Test Accuracy=0.4650\n",
      "Epoch 500: Loss=0.6891, Train Accuracy=0.5325 Test Accuracy=0.4800\n",
      "Epoch 600: Loss=0.6875, Train Accuracy=0.5312 Test Accuracy=0.4900\n",
      "Epoch 700: Loss=0.6866, Train Accuracy=0.5400 Test Accuracy=0.5100\n",
      "Epoch 800: Loss=0.6861, Train Accuracy=0.5413 Test Accuracy=0.5100\n",
      "Epoch 900: Loss=0.6858, Train Accuracy=0.5487 Test Accuracy=0.5150\n",
      "\n",
      "\n",
      "Training: 1, Learning rate: 0.05\n",
      "Epoch 0: Loss=0.7555, Train Accuracy=0.5038 Test Accuracy=0.4950\n",
      "Epoch 100: Loss=0.6916, Train Accuracy=0.5288 Test Accuracy=0.5250\n",
      "Epoch 200: Loss=0.6859, Train Accuracy=0.5463 Test Accuracy=0.5100\n",
      "Epoch 300: Loss=0.6853, Train Accuracy=0.5425 Test Accuracy=0.5100\n",
      "Epoch 400: Loss=0.6853, Train Accuracy=0.5437 Test Accuracy=0.5100\n",
      "Epoch 500: Loss=0.6853, Train Accuracy=0.5463 Test Accuracy=0.5100\n",
      "Epoch 600: Loss=0.6853, Train Accuracy=0.5450 Test Accuracy=0.5100\n",
      "Epoch 700: Loss=0.6853, Train Accuracy=0.5437 Test Accuracy=0.5100\n",
      "Epoch 800: Loss=0.6853, Train Accuracy=0.5437 Test Accuracy=0.5100\n",
      "Epoch 900: Loss=0.6853, Train Accuracy=0.5437 Test Accuracy=0.5050\n",
      "\n",
      "\n",
      "Training: 2, Learning rate: 0.1\n",
      "Epoch 0: Loss=0.7425, Train Accuracy=0.4975 Test Accuracy=0.5000\n",
      "Epoch 100: Loss=0.6857, Train Accuracy=0.5425 Test Accuracy=0.5200\n",
      "Epoch 200: Loss=0.6853, Train Accuracy=0.5487 Test Accuracy=0.5100\n",
      "Epoch 300: Loss=0.6853, Train Accuracy=0.5437 Test Accuracy=0.5100\n",
      "Epoch 400: Loss=0.6853, Train Accuracy=0.5437 Test Accuracy=0.5050\n",
      "Epoch 500: Loss=0.6853, Train Accuracy=0.5437 Test Accuracy=0.5050\n",
      "Epoch 600: Loss=0.6853, Train Accuracy=0.5437 Test Accuracy=0.5050\n",
      "Epoch 700: Loss=0.6853, Train Accuracy=0.5437 Test Accuracy=0.5050\n",
      "Epoch 800: Loss=0.6853, Train Accuracy=0.5437 Test Accuracy=0.5050\n",
      "Epoch 900: Loss=0.6853, Train Accuracy=0.5437 Test Accuracy=0.5050\n"
     ]
    }
   ],
   "execution_count": 23
  },
  {
   "metadata": {
    "ExecuteTime": {
     "end_time": "2025-06-24T05:39:43.082355Z",
     "start_time": "2025-06-24T05:39:42.955536Z"
    }
   },
   "cell_type": "code",
   "source": [
    "weights = model.to('cpu').linear.weight.data.numpy().flatten()\n",
    "features = X.columns\n",
    "print(f\"Weights: {weights}, Features: {features}\")\n",
    "\n",
    "# Create a DataFrame for feature importance\n",
    "## Write your code here\n",
    "feature_importance_df = pd.DataFrame({'Feature': features, 'Importance': weights})\n",
    "feature_importance_df = feature_importance_df.sort_values(by='Importance', ascending=False)\n",
    "print(feature_importance_df)\n",
    "\n",
    "plt.figure(figsize=(10,5))\n",
    "plt.barh(feature_importance_df['Feature'], feature_importance_df['Importance'])\n",
    "plt.xlabel('Importance')\n",
    "plt.ylabel('Feature')\n",
    "plt.title('Feature Importance')\n",
    "plt.show()"
   ],
   "id": "cf75df303cee936e",
   "outputs": [
    {
     "name": "stdout",
     "output_type": "stream",
     "text": [
      "Weights: [ 0.12611873 -0.00445959 -0.01299381  0.16853935 -0.007077    0.1021425\n",
      " -0.03261068 -0.01763816], Features: Index(['kills', 'deaths', 'assists', 'gold_earned', 'cs', 'wards_placed',\n",
      "       'wards_killed', 'damage_dealt'],\n",
      "      dtype='object')\n",
      "        Feature  Importance\n",
      "3   gold_earned    0.168539\n",
      "0         kills    0.126119\n",
      "5  wards_placed    0.102142\n",
      "1        deaths   -0.004460\n",
      "4            cs   -0.007077\n",
      "2       assists   -0.012994\n",
      "7  damage_dealt   -0.017638\n",
      "6  wards_killed   -0.032611\n"
     ]
    },
    {
     "data": {
      "text/plain": [
       "<Figure size 1000x500 with 1 Axes>"
      ],
      "image/png": "[encoded data removed]"
     },
     "metadata": {},
     "output_type": "display_data"
    }
   ],
   "execution_count": 24
  },
  {
   "metadata": {},
   "cell_type": "code",
   "outputs": [],
   "execution_count": null,
   "source": "",
   "id": "724faf6740b6ce32"
  }
 ],
 "metadata": {
  "kernelspec": {
   "display_name": "Python 3 (ipykernel)",
   "language": "python",
   "name": "python3"
  },
  "language_info": {
   "codemirror_mode": {
    "name": "ipython",
    "version": 2
   },
   "file_extension": ".py",
   "mimetype": "text/x-python",
   "name": "python",
   "nbconvert_exporter": "python",
   "pygments_lexer": "ipython2",
   "version": "2.7.6"
  }
 },
 "nbformat": 4,
 "nbformat_minor": 5
}

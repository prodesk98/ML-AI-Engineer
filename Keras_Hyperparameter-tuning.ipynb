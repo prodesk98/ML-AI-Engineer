{
 "cells": [
  {
   "cell_type": "code",
   "id": "initial_id",
   "metadata": {
    "collapsed": true,
    "ExecuteTime": {
     "end_time": "2025-06-22T20:16:26.161082Z",
     "start_time": "2025-06-22T20:16:26.157045Z"
    }
   },
   "source": [
    "import sys\n",
    "\n",
    "# Increase recursion limit to prevent potential issues\n",
    "sys.setrecursionlimit(100_000)"
   ],
   "outputs": [],
   "execution_count": 1
  },
  {
   "metadata": {
    "ExecuteTime": {
     "end_time": "2025-06-22T20:16:27.411499Z",
     "start_time": "2025-06-22T20:16:26.298359Z"
    }
   },
   "cell_type": "code",
   "source": "!pip install keras-tuner",
   "id": "b8486e41cb6fd711",
   "outputs": [
    {
     "name": "stdout",
     "output_type": "stream",
     "text": [
      "Requirement already satisfied: keras-tuner in /home/prodesk/.virtualenvs/ML-AI-Engineer/lib/python3.12/site-packages (1.4.7)\r\n",
      "Requirement already satisfied: keras in /home/prodesk/.virtualenvs/ML-AI-Engineer/lib/python3.12/site-packages (from keras-tuner) (3.10.0)\r\n",
      "Requirement already satisfied: packaging in /home/prodesk/.virtualenvs/ML-AI-Engineer/lib/python3.12/site-packages (from keras-tuner) (25.0)\r\n",
      "Requirement already satisfied: requests in /home/prodesk/.virtualenvs/ML-AI-Engineer/lib/python3.12/site-packages (from keras-tuner) (2.32.4)\r\n",
      "Requirement already satisfied: kt-legacy in /home/prodesk/.virtualenvs/ML-AI-Engineer/lib/python3.12/site-packages (from keras-tuner) (1.0.5)\r\n",
      "Requirement already satisfied: absl-py in /home/prodesk/.virtualenvs/ML-AI-Engineer/lib/python3.12/site-packages (from keras->keras-tuner) (2.3.0)\r\n",
      "Requirement already satisfied: numpy in /home/prodesk/.virtualenvs/ML-AI-Engineer/lib/python3.12/site-packages (from keras->keras-tuner) (2.0.2)\r\n",
      "Requirement already satisfied: rich in /home/prodesk/.virtualenvs/ML-AI-Engineer/lib/python3.12/site-packages (from keras->keras-tuner) (14.0.0)\r\n",
      "Requirement already satisfied: namex in /home/prodesk/.virtualenvs/ML-AI-Engineer/lib/python3.12/site-packages (from keras->keras-tuner) (0.1.0)\r\n",
      "Requirement already satisfied: h5py in /home/prodesk/.virtualenvs/ML-AI-Engineer/lib/python3.12/site-packages (from keras->keras-tuner) (3.14.0)\r\n",
      "Requirement already satisfied: optree in /home/prodesk/.virtualenvs/ML-AI-Engineer/lib/python3.12/site-packages (from keras->keras-tuner) (0.16.0)\r\n",
      "Requirement already satisfied: ml-dtypes in /home/prodesk/.virtualenvs/ML-AI-Engineer/lib/python3.12/site-packages (from keras->keras-tuner) (0.4.1)\r\n",
      "Requirement already satisfied: charset_normalizer<4,>=2 in /home/prodesk/.virtualenvs/ML-AI-Engineer/lib/python3.12/site-packages (from requests->keras-tuner) (3.4.2)\r\n",
      "Requirement already satisfied: idna<4,>=2.5 in /home/prodesk/.virtualenvs/ML-AI-Engineer/lib/python3.12/site-packages (from requests->keras-tuner) (3.10)\r\n",
      "Requirement already satisfied: urllib3<3,>=1.21.1 in /home/prodesk/.virtualenvs/ML-AI-Engineer/lib/python3.12/site-packages (from requests->keras-tuner) (2.4.0)\r\n",
      "Requirement already satisfied: certifi>=2017.4.17 in /home/prodesk/.virtualenvs/ML-AI-Engineer/lib/python3.12/site-packages (from requests->keras-tuner) (2025.6.15)\r\n",
      "Requirement already satisfied: typing-extensions>=4.6.0 in /home/prodesk/.virtualenvs/ML-AI-Engineer/lib/python3.12/site-packages (from optree->keras->keras-tuner) (4.14.0)\r\n",
      "Requirement already satisfied: markdown-it-py>=2.2.0 in /home/prodesk/.virtualenvs/ML-AI-Engineer/lib/python3.12/site-packages (from rich->keras->keras-tuner) (3.0.0)\r\n",
      "Requirement already satisfied: pygments<3.0.0,>=2.13.0 in /home/prodesk/.virtualenvs/ML-AI-Engineer/lib/python3.12/site-packages (from rich->keras->keras-tuner) (2.19.1)\r\n",
      "Requirement already satisfied: mdurl~=0.1 in /home/prodesk/.virtualenvs/ML-AI-Engineer/lib/python3.12/site-packages (from markdown-it-py>=2.2.0->rich->keras->keras-tuner) (0.1.2)\r\n",
      "\r\n",
      "\u001B[1m[\u001B[0m\u001B[34;49mnotice\u001B[0m\u001B[1;39;49m]\u001B[0m\u001B[39;49m A new release of pip is available: \u001B[0m\u001B[31;49m25.0.1\u001B[0m\u001B[39;49m -> \u001B[0m\u001B[32;49m25.1.1\u001B[0m\r\n",
      "\u001B[1m[\u001B[0m\u001B[34;49mnotice\u001B[0m\u001B[1;39;49m]\u001B[0m\u001B[39;49m To update, run: \u001B[0m\u001B[32;49mpip install --upgrade pip\u001B[0m\r\n"
     ]
    }
   ],
   "execution_count": 2
  },
  {
   "metadata": {
    "ExecuteTime": {
     "end_time": "2025-06-22T20:16:31.522524Z",
     "start_time": "2025-06-22T20:16:27.435729Z"
    }
   },
   "cell_type": "code",
   "source": [
    "import keras_tuner as kt\n",
    "from tensorflow.keras.models import Sequential\n",
    "from tensorflow.keras.layers import Dense, Flatten\n",
    "from tensorflow import keras\n",
    "from tensorflow.keras.optimizers import Adam\n",
    "import os\n",
    "import warnings\n",
    "\n",
    "# suppress all Python warnings\n",
    "warnings.filterwarnings('ignore')\n",
    "\n",
    "# Set Tensorflow log level to suppress warnings and info messages\n",
    "os.environ['TF_CPP_MIN_LOG_LEVEL'] = '2'"
   ],
   "id": "150f358d26e7e111",
   "outputs": [
    {
     "name": "stderr",
     "output_type": "stream",
     "text": [
      "2025-06-22 17:16:27.875126: I tensorflow/core/platform/cpu_feature_guard.cc:210] This TensorFlow binary is optimized to use available CPU instructions in performance-critical operations.\n",
      "To enable the following instructions: AVX2 FMA, in other operations, rebuild TensorFlow with the appropriate compiler flags.\n"
     ]
    }
   ],
   "execution_count": 3
  },
  {
   "metadata": {
    "ExecuteTime": {
     "end_time": "2025-06-22T20:16:31.946981Z",
     "start_time": "2025-06-22T20:16:31.710395Z"
    }
   },
   "cell_type": "code",
   "source": [
    "from sklearn.model_selection import train_test_split\n",
    "\n",
    "# Load the MNIST dataset\n",
    "(X_train, y_train), _ = keras.datasets.mnist.load_data()\n",
    "\n",
    "# Split into train+val and test (80/20)\n",
    "X_train, X_test, y_train, y_test = train_test_split(X_train, y_train, test_size=0.2, random_state=42)\n",
    "\n",
    "# Split train+val into train and validation (75/25 of 80% = 60/20 overall)\n",
    "X_train, X_valid, y_train, y_valid = train_test_split(X_train, y_train, test_size=0.2, random_state=42)"
   ],
   "id": "953eeccce55c582f",
   "outputs": [],
   "execution_count": 4
  },
  {
   "metadata": {
    "ExecuteTime": {
     "end_time": "2025-06-22T20:16:32.148836Z",
     "start_time": "2025-06-22T20:16:31.971946Z"
    }
   },
   "cell_type": "code",
   "source": [
    "X_train, X_valid = X_train / 255., X_valid / 255.\n",
    "X_test = X_test / 255.\n",
    "\n",
    "print(f\"Training data shape: {X_train.shape}\")\n",
    "print(f\"Validation data shape: {X_valid.shape}\")\n",
    "print(f\"Test data shape: {X_test.shape}\")"
   ],
   "id": "49a3a9eee7508894",
   "outputs": [
    {
     "name": "stdout",
     "output_type": "stream",
     "text": [
      "Training data shape: (38400, 28, 28)\n",
      "Validation data shape: (9600, 28, 28)\n",
      "Test data shape: (12000, 28, 28)\n"
     ]
    }
   ],
   "execution_count": 5
  },
  {
   "metadata": {
    "ExecuteTime": {
     "end_time": "2025-06-22T20:16:32.177245Z",
     "start_time": "2025-06-22T20:16:32.172946Z"
    }
   },
   "cell_type": "code",
   "source": [
    "def build_model(hp: kt.HyperParameters):\n",
    "    model = Sequential([\n",
    "        Flatten(input_shape=(28, 28)),\n",
    "        Dense(units=hp.Int('units', min_value=32, max_value=512, step=32), activation='relu'),\n",
    "        Dense(units=10, activation='softmax')\n",
    "    ])\n",
    "\n",
    "    # Compile model\n",
    "    model.compile(\n",
    "        optimizer=Adam(learning_rate=hp.Float('learning_rate', min_value=1e-4, max_value=1e-2, sampling='LOG')),\n",
    "        loss='sparse_categorical_crossentropy',\n",
    "        metrics=['accuracy']\n",
    "    )\n",
    "    return model"
   ],
   "id": "57da0993837f9f1b",
   "outputs": [],
   "execution_count": 6
  },
  {
   "metadata": {
    "ExecuteTime": {
     "end_time": "2025-06-22T20:16:32.324121Z",
     "start_time": "2025-06-22T20:16:32.232407Z"
    }
   },
   "cell_type": "code",
   "source": [
    "# Create a RandomSearch Tuner\n",
    "tuner = kt.RandomSearch(\n",
    "    build_model,\n",
    "    objective='val_accuracy',\n",
    "    max_trials=10,\n",
    "    executions_per_trial=2,\n",
    "    directory='tuner',\n",
    "    project_name='intro_to_kt'\n",
    ")\n",
    "tuner.search_space_summary()"
   ],
   "id": "29a2cfe1887c6072",
   "outputs": [
    {
     "name": "stdout",
     "output_type": "stream",
     "text": [
      "Reloading Tuner from tuner/intro_to_kt/tuner0.json\n",
      "Search space summary\n",
      "Default search space size: 2\n",
      "units (Int)\n",
      "{'default': None, 'conditions': [], 'min_value': 32, 'max_value': 512, 'step': 32, 'sampling': 'linear'}\n",
      "learning_rate (Float)\n",
      "{'default': 0.0001, 'conditions': [], 'min_value': 0.0001, 'max_value': 0.01, 'step': None, 'sampling': 'log'}\n"
     ]
    }
   ],
   "execution_count": 7
  },
  {
   "metadata": {},
   "cell_type": "markdown",
   "source": "### Running the hyperparameter search",
   "id": "2451b2051713fa16"
  },
  {
   "metadata": {
    "ExecuteTime": {
     "end_time": "2025-06-22T20:16:32.356116Z",
     "start_time": "2025-06-22T20:16:32.351060Z"
    }
   },
   "cell_type": "code",
   "source": [
    "tuner.search(X_train, y_train, validation_data=(X_valid, y_valid), epochs=5)\n",
    "tuner.results_summary()"
   ],
   "id": "4f6bac29199ca056",
   "outputs": [
    {
     "name": "stdout",
     "output_type": "stream",
     "text": [
      "Results summary\n",
      "Results in tuner/intro_to_kt\n",
      "Showing 10 best trials\n",
      "Objective(name=\"val_accuracy\", direction=\"max\")\n",
      "\n",
      "Trial 08 summary\n",
      "Hyperparameters:\n",
      "units: 480\n",
      "learning_rate: 0.0006620419808746878\n",
      "Score: 0.9761458337306976\n",
      "\n",
      "Trial 04 summary\n",
      "Hyperparameters:\n",
      "units: 448\n",
      "learning_rate: 0.0009271244766046284\n",
      "Score: 0.9743229150772095\n",
      "\n",
      "Trial 02 summary\n",
      "Hyperparameters:\n",
      "units: 512\n",
      "learning_rate: 0.0002485239761234895\n",
      "Score: 0.9705208241939545\n",
      "\n",
      "Trial 05 summary\n",
      "Hyperparameters:\n",
      "units: 512\n",
      "learning_rate: 0.0002421696251742364\n",
      "Score: 0.9699479043483734\n",
      "\n",
      "Trial 06 summary\n",
      "Hyperparameters:\n",
      "units: 96\n",
      "learning_rate: 0.00330588674286921\n",
      "Score: 0.9688020646572113\n",
      "\n",
      "Trial 07 summary\n",
      "Hyperparameters:\n",
      "units: 192\n",
      "learning_rate: 0.006351062743654629\n",
      "Score: 0.965416669845581\n",
      "\n",
      "Trial 03 summary\n",
      "Hyperparameters:\n",
      "units: 416\n",
      "learning_rate: 0.00012015957297929576\n",
      "Score: 0.9597916603088379\n",
      "\n",
      "Trial 09 summary\n",
      "Hyperparameters:\n",
      "units: 160\n",
      "learning_rate: 0.00010957237595130019\n",
      "Score: 0.9474479258060455\n",
      "\n",
      "Trial 01 summary\n",
      "Hyperparameters:\n",
      "units: 320\n",
      "learning_rate: 0.004155575622558665\n",
      "Traceback (most recent call last):\n",
      "  File \"/home/prodesk/.virtualenvs/ML-AI-Engineer/lib/python3.12/site-packages/keras_tuner/src/engine/base_tuner.py\", line 274, in _try_run_and_update_trial\n",
      "    self._run_and_update_trial(trial, *fit_args, **fit_kwargs)\n",
      "  File \"/home/prodesk/.virtualenvs/ML-AI-Engineer/lib/python3.12/site-packages/keras_tuner/src/engine/base_tuner.py\", line 239, in _run_and_update_trial\n",
      "    results = self.run_trial(trial, *fit_args, **fit_kwargs)\n",
      "              ^^^^^^^^^^^^^^^^^^^^^^^^^^^^^^^^^^^^^^^^^^^^^^\n",
      "  File \"/home/prodesk/.virtualenvs/ML-AI-Engineer/lib/python3.12/site-packages/keras_tuner/src/engine/tuner.py\", line 314, in run_trial\n",
      "    obj_value = self._build_and_fit_model(trial, *args, **copied_kwargs)\n",
      "                ^^^^^^^^^^^^^^^^^^^^^^^^^^^^^^^^^^^^^^^^^^^^^^^^^^^^^^^^\n",
      "  File \"/home/prodesk/.virtualenvs/ML-AI-Engineer/lib/python3.12/site-packages/keras_tuner/src/engine/tuner.py\", line 233, in _build_and_fit_model\n",
      "    results = self.hypermodel.fit(hp, model, *args, **kwargs)\n",
      "              ^^^^^^^^^^^^^^^^^^^^^^^^^^^^^^^^^^^^^^^^^^^^^^^\n",
      "  File \"/home/prodesk/.virtualenvs/ML-AI-Engineer/lib/python3.12/site-packages/keras_tuner/src/engine/hypermodel.py\", line 149, in fit\n",
      "    return model.fit(*args, **kwargs)\n",
      "           ^^^^^^^^^^^^^^^^^^^^^^^^^^\n",
      "  File \"/home/prodesk/.virtualenvs/ML-AI-Engineer/lib/python3.12/site-packages/keras/src/utils/traceback_utils.py\", line 122, in error_handler\n",
      "    raise e.with_traceback(filtered_tb) from None\n",
      "  File \"/home/prodesk/.virtualenvs/ML-AI-Engineer/lib/python3.12/site-packages/keras/src/models/functional.py\", line 276, in _adjust_input_rank\n",
      "    raise ValueError(\n",
      "ValueError: Exception encountered when calling Sequential.call().\n",
      "\n",
      "\u001B[1mInvalid input shape for input Tensor(\"data:0\", shape=(32, 784), dtype=float32). Expected shape (None, 28, 28), but input has incompatible shape (32, 784)\u001B[0m\n",
      "\n",
      "Arguments received by Sequential.call():\n",
      "  • inputs=tf.Tensor(shape=(32, 784), dtype=float32)\n",
      "  • training=True\n",
      "  • mask=None\n",
      "  • kwargs=<class 'inspect._empty'>\n",
      "\n",
      "\n",
      "Trial 00 summary\n",
      "Hyperparameters:\n",
      "units: 192\n",
      "learning_rate: 0.003049541549141375\n",
      "Traceback (most recent call last):\n",
      "  File \"/home/prodesk/.virtualenvs/ML-AI-Engineer/lib/python3.12/site-packages/keras_tuner/src/engine/base_tuner.py\", line 274, in _try_run_and_update_trial\n",
      "    self._run_and_update_trial(trial, *fit_args, **fit_kwargs)\n",
      "  File \"/home/prodesk/.virtualenvs/ML-AI-Engineer/lib/python3.12/site-packages/keras_tuner/src/engine/base_tuner.py\", line 239, in _run_and_update_trial\n",
      "    results = self.run_trial(trial, *fit_args, **fit_kwargs)\n",
      "              ^^^^^^^^^^^^^^^^^^^^^^^^^^^^^^^^^^^^^^^^^^^^^^\n",
      "  File \"/home/prodesk/.virtualenvs/ML-AI-Engineer/lib/python3.12/site-packages/keras_tuner/src/engine/tuner.py\", line 314, in run_trial\n",
      "    obj_value = self._build_and_fit_model(trial, *args, **copied_kwargs)\n",
      "                ^^^^^^^^^^^^^^^^^^^^^^^^^^^^^^^^^^^^^^^^^^^^^^^^^^^^^^^^\n",
      "  File \"/home/prodesk/.virtualenvs/ML-AI-Engineer/lib/python3.12/site-packages/keras_tuner/src/engine/tuner.py\", line 233, in _build_and_fit_model\n",
      "    results = self.hypermodel.fit(hp, model, *args, **kwargs)\n",
      "              ^^^^^^^^^^^^^^^^^^^^^^^^^^^^^^^^^^^^^^^^^^^^^^^\n",
      "  File \"/home/prodesk/.virtualenvs/ML-AI-Engineer/lib/python3.12/site-packages/keras_tuner/src/engine/hypermodel.py\", line 149, in fit\n",
      "    return model.fit(*args, **kwargs)\n",
      "           ^^^^^^^^^^^^^^^^^^^^^^^^^^\n",
      "  File \"/home/prodesk/.virtualenvs/ML-AI-Engineer/lib/python3.12/site-packages/keras/src/utils/traceback_utils.py\", line 122, in error_handler\n",
      "    raise e.with_traceback(filtered_tb) from None\n",
      "  File \"/home/prodesk/.virtualenvs/ML-AI-Engineer/lib/python3.12/site-packages/keras/src/models/functional.py\", line 276, in _adjust_input_rank\n",
      "    raise ValueError(\n",
      "ValueError: Exception encountered when calling Sequential.call().\n",
      "\n",
      "\u001B[1mInvalid input shape for input Tensor(\"data:0\", shape=(32, 784), dtype=float32). Expected shape (None, 28, 28), but input has incompatible shape (32, 784)\u001B[0m\n",
      "\n",
      "Arguments received by Sequential.call():\n",
      "  • inputs=tf.Tensor(shape=(32, 784), dtype=float32)\n",
      "  • training=True\n",
      "  • mask=None\n",
      "  • kwargs=<class 'inspect._empty'>\n",
      "\n"
     ]
    }
   ],
   "execution_count": 8
  },
  {
   "metadata": {},
   "cell_type": "markdown",
   "source": "### Analyzing and using the best hyperparameters",
   "id": "e3cea5f085656e24"
  },
  {
   "metadata": {
    "ExecuteTime": {
     "end_time": "2025-06-22T20:16:32.420359Z",
     "start_time": "2025-06-22T20:16:32.417153Z"
    }
   },
   "cell_type": "code",
   "source": "best_hps: kt.HyperParameters = tuner.get_best_hyperparameters(num_trials=1)[0]",
   "id": "932cd83c4e3c03c0",
   "outputs": [],
   "execution_count": 9
  },
  {
   "metadata": {
    "ExecuteTime": {
     "end_time": "2025-06-22T20:16:32.482006Z",
     "start_time": "2025-06-22T20:16:32.477594Z"
    }
   },
   "cell_type": "code",
   "source": [
    "print(f\"\"\"\n",
    "The optimal number of units in the first dense layer is: {best_hps['units']}\n",
    "The optimal learning rate is {best_hps['learning_rate']}\n",
    "\"\"\")"
   ],
   "id": "98841c659acd992c",
   "outputs": [
    {
     "name": "stdout",
     "output_type": "stream",
     "text": [
      "\n",
      "The optimal number of units in the first dense layer is: 480\n",
      "The optimal learning rate is 0.0006620419808746878\n",
      "\n"
     ]
    }
   ],
   "execution_count": 10
  },
  {
   "metadata": {
    "ExecuteTime": {
     "end_time": "2025-06-22T20:17:21.371830Z",
     "start_time": "2025-06-22T20:16:32.537596Z"
    }
   },
   "cell_type": "code",
   "source": [
    "# Build and Train the Model with Best Hyperparameters\n",
    "model_ = tuner.hypermodel.build(best_hps)\n",
    "model_.fit(X_train, y_train, epochs=10, validation_data=(X_valid, y_valid))\n",
    "\n",
    "# Evaluate the Model on the test set\n",
    "val_loss, val_acc = model_.evaluate(X_test, y_test)\n",
    "print('Test loss:', val_loss)\n",
    "print('Test accuracy:', val_acc)"
   ],
   "id": "dfeb293393b8f447",
   "outputs": [
    {
     "name": "stdout",
     "output_type": "stream",
     "text": [
      "Epoch 1/10\n",
      "\u001B[1m1200/1200\u001B[0m \u001B[32m━━━━━━━━━━━━━━━━━━━━\u001B[0m\u001B[37m\u001B[0m \u001B[1m5s\u001B[0m 4ms/step - accuracy: 0.8635 - loss: 0.4679 - val_accuracy: 0.9538 - val_loss: 0.1527\n",
      "Epoch 2/10\n",
      "\u001B[1m1200/1200\u001B[0m \u001B[32m━━━━━━━━━━━━━━━━━━━━\u001B[0m\u001B[37m\u001B[0m \u001B[1m5s\u001B[0m 4ms/step - accuracy: 0.9647 - loss: 0.1233 - val_accuracy: 0.9659 - val_loss: 0.1096\n",
      "Epoch 3/10\n",
      "\u001B[1m1200/1200\u001B[0m \u001B[32m━━━━━━━━━━━━━━━━━━━━\u001B[0m\u001B[37m\u001B[0m \u001B[1m5s\u001B[0m 4ms/step - accuracy: 0.9779 - loss: 0.0758 - val_accuracy: 0.9735 - val_loss: 0.0875\n",
      "Epoch 4/10\n",
      "\u001B[1m1200/1200\u001B[0m \u001B[32m━━━━━━━━━━━━━━━━━━━━\u001B[0m\u001B[37m\u001B[0m \u001B[1m5s\u001B[0m 4ms/step - accuracy: 0.9860 - loss: 0.0502 - val_accuracy: 0.9761 - val_loss: 0.0778\n",
      "Epoch 5/10\n",
      "\u001B[1m1200/1200\u001B[0m \u001B[32m━━━━━━━━━━━━━━━━━━━━\u001B[0m\u001B[37m\u001B[0m \u001B[1m5s\u001B[0m 4ms/step - accuracy: 0.9895 - loss: 0.0369 - val_accuracy: 0.9762 - val_loss: 0.0789\n",
      "Epoch 6/10\n",
      "\u001B[1m1200/1200\u001B[0m \u001B[32m━━━━━━━━━━━━━━━━━━━━\u001B[0m\u001B[37m\u001B[0m \u001B[1m5s\u001B[0m 4ms/step - accuracy: 0.9932 - loss: 0.0271 - val_accuracy: 0.9739 - val_loss: 0.0846\n",
      "Epoch 7/10\n",
      "\u001B[1m1200/1200\u001B[0m \u001B[32m━━━━━━━━━━━━━━━━━━━━\u001B[0m\u001B[37m\u001B[0m \u001B[1m5s\u001B[0m 4ms/step - accuracy: 0.9947 - loss: 0.0203 - val_accuracy: 0.9766 - val_loss: 0.0808\n",
      "Epoch 8/10\n",
      "\u001B[1m1200/1200\u001B[0m \u001B[32m━━━━━━━━━━━━━━━━━━━━\u001B[0m\u001B[37m\u001B[0m \u001B[1m5s\u001B[0m 4ms/step - accuracy: 0.9964 - loss: 0.0150 - val_accuracy: 0.9767 - val_loss: 0.0838\n",
      "Epoch 9/10\n",
      "\u001B[1m1200/1200\u001B[0m \u001B[32m━━━━━━━━━━━━━━━━━━━━\u001B[0m\u001B[37m\u001B[0m \u001B[1m5s\u001B[0m 4ms/step - accuracy: 0.9958 - loss: 0.0143 - val_accuracy: 0.9780 - val_loss: 0.0791\n",
      "Epoch 10/10\n",
      "\u001B[1m1200/1200\u001B[0m \u001B[32m━━━━━━━━━━━━━━━━━━━━\u001B[0m\u001B[37m\u001B[0m \u001B[1m5s\u001B[0m 4ms/step - accuracy: 0.9982 - loss: 0.0082 - val_accuracy: 0.9808 - val_loss: 0.0754\n",
      "\u001B[1m375/375\u001B[0m \u001B[32m━━━━━━━━━━━━━━━━━━━━\u001B[0m\u001B[37m\u001B[0m \u001B[1m1s\u001B[0m 2ms/step - accuracy: 0.9780 - loss: 0.0807\n",
      "Test loss: 0.08301667869091034\n",
      "Test accuracy: 0.9794999957084656\n"
     ]
    }
   ],
   "execution_count": 11
  }
 ],
 "metadata": {
  "kernelspec": {
   "display_name": "Python 3",
   "language": "python",
   "name": "python3"
  },
  "language_info": {
   "codemirror_mode": {
    "name": "ipython",
    "version": 2
   },
   "file_extension": ".py",
   "mimetype": "text/x-python",
   "name": "python",
   "nbconvert_exporter": "python",
   "pygments_lexer": "ipython2",
   "version": "2.7.6"
  }
 },
 "nbformat": 4,
 "nbformat_minor": 5
}

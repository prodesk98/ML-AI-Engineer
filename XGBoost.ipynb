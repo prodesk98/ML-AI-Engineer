{
 "cells": [
  {
   "cell_type": "code",
   "id": "initial_id",
   "metadata": {
    "collapsed": true,
    "ExecuteTime": {
     "end_time": "2025-06-17T03:11:45.628272Z",
     "start_time": "2025-06-17T03:11:29.900029Z"
    }
   },
   "source": [
    "!pip install numpy==2.2.0\n",
    "!pip install scikit-learn==1.6.0\n",
    "!pip install matplotlib==3.9.3\n",
    "!pip install xgboost==2.1.3"
   ],
   "outputs": [
    {
     "name": "stdout",
     "output_type": "stream",
     "text": [
      "Requirement already satisfied: numpy==2.2.0 in /home/prodesk/.virtualenvs/ML-AI-Engineer/lib/python3.12/site-packages (2.2.0)\r\n",
      "\r\n",
      "\u001B[1m[\u001B[0m\u001B[34;49mnotice\u001B[0m\u001B[1;39;49m]\u001B[0m\u001B[39;49m A new release of pip is available: \u001B[0m\u001B[31;49m25.0.1\u001B[0m\u001B[39;49m -> \u001B[0m\u001B[32;49m25.1.1\u001B[0m\r\n",
      "\u001B[1m[\u001B[0m\u001B[34;49mnotice\u001B[0m\u001B[1;39;49m]\u001B[0m\u001B[39;49m To update, run: \u001B[0m\u001B[32;49mpip install --upgrade pip\u001B[0m\r\n",
      "Requirement already satisfied: scikit-learn==1.6.0 in /home/prodesk/.virtualenvs/ML-AI-Engineer/lib/python3.12/site-packages (1.6.0)\r\n",
      "Requirement already satisfied: numpy>=1.19.5 in /home/prodesk/.virtualenvs/ML-AI-Engineer/lib/python3.12/site-packages (from scikit-learn==1.6.0) (2.2.0)\r\n",
      "Requirement already satisfied: scipy>=1.6.0 in /home/prodesk/.virtualenvs/ML-AI-Engineer/lib/python3.12/site-packages (from scikit-learn==1.6.0) (1.15.3)\r\n",
      "Requirement already satisfied: joblib>=1.2.0 in /home/prodesk/.virtualenvs/ML-AI-Engineer/lib/python3.12/site-packages (from scikit-learn==1.6.0) (1.5.1)\r\n",
      "Requirement already satisfied: threadpoolctl>=3.1.0 in /home/prodesk/.virtualenvs/ML-AI-Engineer/lib/python3.12/site-packages (from scikit-learn==1.6.0) (3.6.0)\r\n",
      "\r\n",
      "\u001B[1m[\u001B[0m\u001B[34;49mnotice\u001B[0m\u001B[1;39;49m]\u001B[0m\u001B[39;49m A new release of pip is available: \u001B[0m\u001B[31;49m25.0.1\u001B[0m\u001B[39;49m -> \u001B[0m\u001B[32;49m25.1.1\u001B[0m\r\n",
      "\u001B[1m[\u001B[0m\u001B[34;49mnotice\u001B[0m\u001B[1;39;49m]\u001B[0m\u001B[39;49m To update, run: \u001B[0m\u001B[32;49mpip install --upgrade pip\u001B[0m\r\n",
      "Requirement already satisfied: matplotlib==3.9.3 in /home/prodesk/.virtualenvs/ML-AI-Engineer/lib/python3.12/site-packages (3.9.3)\r\n",
      "Requirement already satisfied: contourpy>=1.0.1 in /home/prodesk/.virtualenvs/ML-AI-Engineer/lib/python3.12/site-packages (from matplotlib==3.9.3) (1.3.2)\r\n",
      "Requirement already satisfied: cycler>=0.10 in /home/prodesk/.virtualenvs/ML-AI-Engineer/lib/python3.12/site-packages (from matplotlib==3.9.3) (0.12.1)\r\n",
      "Requirement already satisfied: fonttools>=4.22.0 in /home/prodesk/.virtualenvs/ML-AI-Engineer/lib/python3.12/site-packages (from matplotlib==3.9.3) (4.58.4)\r\n",
      "Requirement already satisfied: kiwisolver>=1.3.1 in /home/prodesk/.virtualenvs/ML-AI-Engineer/lib/python3.12/site-packages (from matplotlib==3.9.3) (1.4.8)\r\n",
      "Requirement already satisfied: numpy>=1.23 in /home/prodesk/.virtualenvs/ML-AI-Engineer/lib/python3.12/site-packages (from matplotlib==3.9.3) (2.2.0)\r\n",
      "Requirement already satisfied: packaging>=20.0 in /home/prodesk/.virtualenvs/ML-AI-Engineer/lib/python3.12/site-packages (from matplotlib==3.9.3) (25.0)\r\n",
      "Requirement already satisfied: pillow>=8 in /home/prodesk/.virtualenvs/ML-AI-Engineer/lib/python3.12/site-packages (from matplotlib==3.9.3) (11.2.1)\r\n",
      "Requirement already satisfied: pyparsing>=2.3.1 in /home/prodesk/.virtualenvs/ML-AI-Engineer/lib/python3.12/site-packages (from matplotlib==3.9.3) (3.2.3)\r\n",
      "Requirement already satisfied: python-dateutil>=2.7 in /home/prodesk/.virtualenvs/ML-AI-Engineer/lib/python3.12/site-packages (from matplotlib==3.9.3) (2.9.0.post0)\r\n",
      "Requirement already satisfied: six>=1.5 in /home/prodesk/.virtualenvs/ML-AI-Engineer/lib/python3.12/site-packages (from python-dateutil>=2.7->matplotlib==3.9.3) (1.17.0)\r\n",
      "\r\n",
      "\u001B[1m[\u001B[0m\u001B[34;49mnotice\u001B[0m\u001B[1;39;49m]\u001B[0m\u001B[39;49m A new release of pip is available: \u001B[0m\u001B[31;49m25.0.1\u001B[0m\u001B[39;49m -> \u001B[0m\u001B[32;49m25.1.1\u001B[0m\r\n",
      "\u001B[1m[\u001B[0m\u001B[34;49mnotice\u001B[0m\u001B[1;39;49m]\u001B[0m\u001B[39;49m To update, run: \u001B[0m\u001B[32;49mpip install --upgrade pip\u001B[0m\r\n",
      "Collecting xgboost==2.1.3\r\n",
      "  Downloading xgboost-2.1.3-py3-none-manylinux_2_28_x86_64.whl.metadata (2.1 kB)\r\n",
      "Requirement already satisfied: numpy in /home/prodesk/.virtualenvs/ML-AI-Engineer/lib/python3.12/site-packages (from xgboost==2.1.3) (2.2.0)\r\n",
      "Collecting nvidia-nccl-cu12 (from xgboost==2.1.3)\r\n",
      "  Downloading nvidia_nccl_cu12-2.27.3-py3-none-manylinux2014_x86_64.manylinux_2_17_x86_64.whl.metadata (2.0 kB)\r\n",
      "Requirement already satisfied: scipy in /home/prodesk/.virtualenvs/ML-AI-Engineer/lib/python3.12/site-packages (from xgboost==2.1.3) (1.15.3)\r\n",
      "Downloading xgboost-2.1.3-py3-none-manylinux_2_28_x86_64.whl (153.9 MB)\r\n",
      "\u001B[2K   \u001B[90m━━━━━━━━━━━━━━━━━━━━━━━━━━━━━━━━━━━━━━━━\u001B[0m \u001B[32m153.9/153.9 MB\u001B[0m \u001B[31m66.4 MB/s\u001B[0m eta \u001B[36m0:00:00\u001B[0m00:01\u001B[0m00:01\u001B[0m\r\n",
      "\u001B[?25hDownloading nvidia_nccl_cu12-2.27.3-py3-none-manylinux2014_x86_64.manylinux_2_17_x86_64.whl (322.4 MB)\r\n",
      "\u001B[2K   \u001B[90m━━━━━━━━━━━━━━━━━━━━━━━━━━━━━━━━━━━━━━━━\u001B[0m \u001B[32m322.4/322.4 MB\u001B[0m \u001B[31m65.0 MB/s\u001B[0m eta \u001B[36m0:00:00\u001B[0m00:01\u001B[0m00:01\u001B[0m\r\n",
      "\u001B[?25hInstalling collected packages: nvidia-nccl-cu12, xgboost\r\n",
      "Successfully installed nvidia-nccl-cu12-2.27.3 xgboost-2.1.3\r\n",
      "\r\n",
      "\u001B[1m[\u001B[0m\u001B[34;49mnotice\u001B[0m\u001B[1;39;49m]\u001B[0m\u001B[39;49m A new release of pip is available: \u001B[0m\u001B[31;49m25.0.1\u001B[0m\u001B[39;49m -> \u001B[0m\u001B[32;49m25.1.1\u001B[0m\r\n",
      "\u001B[1m[\u001B[0m\u001B[34;49mnotice\u001B[0m\u001B[1;39;49m]\u001B[0m\u001B[39;49m To update, run: \u001B[0m\u001B[32;49mpip install --upgrade pip\u001B[0m\r\n"
     ]
    }
   ],
   "execution_count": 1
  },
  {
   "metadata": {
    "ExecuteTime": {
     "end_time": "2025-06-17T03:14:48.918902Z",
     "start_time": "2025-06-17T03:14:48.915053Z"
    }
   },
   "cell_type": "code",
   "source": [
    "from sklearn.datasets import fetch_california_housing\n",
    "from sklearn.model_selection import train_test_split\n",
    "from xgboost import XGBRegressor\n",
    "from sklearn.metrics import mean_squared_error, r2_score\n",
    "import time"
   ],
   "id": "69cadf9444297eb6",
   "outputs": [],
   "execution_count": 9
  },
  {
   "metadata": {
    "ExecuteTime": {
     "end_time": "2025-06-17T03:12:07.576602Z",
     "start_time": "2025-06-17T03:12:01.153312Z"
    }
   },
   "cell_type": "code",
   "source": [
    "# Load the California Housing dataset\n",
    "data = fetch_california_housing()\n",
    "X, y = data.data, data.target\n",
    "\n",
    "# Split data into training and test sets\n",
    "X_train, X_test, y_train, y_test = train_test_split(X, y, test_size=0.2, random_state=42)"
   ],
   "id": "1c1bfd5d173fda73",
   "outputs": [],
   "execution_count": 3
  },
  {
   "metadata": {
    "ExecuteTime": {
     "end_time": "2025-06-17T03:12:41.469429Z",
     "start_time": "2025-06-17T03:12:41.465691Z"
    }
   },
   "cell_type": "code",
   "source": [
    "n_estimators=100\n",
    "xgb = XGBRegressor(n_estimators=n_estimators, random_state=42)"
   ],
   "id": "b41330533c94b939",
   "outputs": [],
   "execution_count": 4
  },
  {
   "metadata": {},
   "cell_type": "code",
   "source": "xgb.fit(X_train, y_train)",
   "id": "9e050a548a4cd15",
   "outputs": [],
   "execution_count": null
  },
  {
   "metadata": {
    "ExecuteTime": {
     "end_time": "2025-06-17T03:14:12.494493Z",
     "start_time": "2025-06-17T03:14:12.484110Z"
    }
   },
   "cell_type": "code",
   "source": "y_pred_xgb = xgb.predict(X_test)",
   "id": "f7002801be9bb46a",
   "outputs": [],
   "execution_count": 7
  },
  {
   "metadata": {
    "ExecuteTime": {
     "end_time": "2025-06-17T03:14:50.933729Z",
     "start_time": "2025-06-17T03:14:50.926762Z"
    }
   },
   "cell_type": "code",
   "source": [
    "mse_rf = mean_squared_error(y_test, y_pred_xgb)\n",
    "r2_rf = r2_score(y_test, y_pred_xgb)\n",
    "print(f\"XGBoost Mean Squared Error: {mse_rf:.2f}\")\n",
    "print(f\"XGBoost R^2 Score: {r2_rf:.2f}\")"
   ],
   "id": "d69bc22204c0fd02",
   "outputs": [
    {
     "name": "stdout",
     "output_type": "stream",
     "text": [
      "XGBoost Mean Squared Error: 0.22\n",
      "XGBoost R^2 Score: 0.83\n"
     ]
    }
   ],
   "execution_count": 10
  },
  {
   "metadata": {},
   "cell_type": "code",
   "outputs": [],
   "execution_count": null,
   "source": "",
   "id": "141cd3f76d4fe3a"
  }
 ],
 "metadata": {
  "kernelspec": {
   "display_name": "Python 3 (ipykernel)",
   "language": "python",
   "name": "python3"
  },
  "language_info": {
   "codemirror_mode": {
    "name": "ipython",
    "version": 2
   },
   "file_extension": ".py",
   "mimetype": "text/x-python",
   "name": "python",
   "nbconvert_exporter": "python",
   "pygments_lexer": "ipython2",
   "version": "2.7.6"
  }
 },
 "nbformat": 4,
 "nbformat_minor": 5
}

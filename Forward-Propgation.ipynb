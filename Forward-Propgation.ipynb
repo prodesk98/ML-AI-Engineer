{
 "cells": [
  {
   "cell_type": "code",
   "id": "initial_id",
   "metadata": {
    "collapsed": true,
    "ExecuteTime": {
     "end_time": "2025-06-17T06:36:41.007903Z",
     "start_time": "2025-06-17T06:36:40.906345Z"
    }
   },
   "source": "import numpy as np",
   "outputs": [],
   "execution_count": 1
  },
  {
   "metadata": {
    "ExecuteTime": {
     "end_time": "2025-06-17T06:38:00.883681Z",
     "start_time": "2025-06-17T06:38:00.857826Z"
    }
   },
   "cell_type": "code",
   "source": [
    "weights = np.around(np.random.uniform(size=6), decimals=2) # Initialize weights\n",
    "biases = np.around(np.random.uniform(size=3), decimals=2) # Initialize biases"
   ],
   "id": "b504169b99c1c880",
   "outputs": [],
   "execution_count": 2
  },
  {
   "metadata": {
    "ExecuteTime": {
     "end_time": "2025-06-17T06:38:07.834810Z",
     "start_time": "2025-06-17T06:38:07.824667Z"
    }
   },
   "cell_type": "code",
   "source": "weights, biases",
   "id": "5332db6a08a3a2a9",
   "outputs": [
    {
     "data": {
      "text/plain": [
       "(array([0.9 , 0.19, 0.72, 0.19, 0.49, 0.9 ]), array([0.47, 0.77, 0.75]))"
      ]
     },
     "execution_count": 3,
     "metadata": {},
     "output_type": "execute_result"
    }
   ],
   "execution_count": 3
  },
  {
   "metadata": {
    "ExecuteTime": {
     "end_time": "2025-06-17T06:38:58.271437Z",
     "start_time": "2025-06-17T06:38:58.267156Z"
    }
   },
   "cell_type": "code",
   "source": [
    "x1 = 0.5\n",
    "x2 = 0.85\n",
    "print(\"x1 is {} and x2 is {}\".format(x1, x2))"
   ],
   "id": "c4f613f13828ba2a",
   "outputs": [
    {
     "name": "stdout",
     "output_type": "stream",
     "text": [
      "x1 is 0.5 and x2 is 0.85\n"
     ]
    }
   ],
   "execution_count": 4
  },
  {
   "metadata": {
    "ExecuteTime": {
     "end_time": "2025-06-17T06:43:50.773997Z",
     "start_time": "2025-06-17T06:43:50.769536Z"
    }
   },
   "cell_type": "code",
   "source": [
    "z11 = x1 * weights[0] + x2 * weights[1] + biases[0]\n",
    "z_12 = x1 * weights[2] + x2 * weights[3] + biases[1]\n",
    "print(\"The weighted sum of the inputs at the first noded in the hidden layer is {}\".format(z11))\n",
    "print(\"The weighted sum of the inputs at the second noded in the hidden layer is {}\".format(z_12))"
   ],
   "id": "ab50c99a9a40cf15",
   "outputs": [
    {
     "name": "stdout",
     "output_type": "stream",
     "text": [
      "The weighted sum of the inputs at the first noded in the hidden layer is 1.0815000000000001\n",
      "The weighted sum of the inputs at the second noded in the hidden layer is 1.2915\n"
     ]
    }
   ],
   "execution_count": 7
  },
  {
   "metadata": {
    "ExecuteTime": {
     "end_time": "2025-06-17T06:48:55.450204Z",
     "start_time": "2025-06-17T06:48:55.445330Z"
    }
   },
   "cell_type": "code",
   "source": [
    "# Calculate the activation of the first node in the hidden layer using the sigmoid function\n",
    "a11 = 1.0 / (1.0 + np.exp(-z11))\n",
    "a12 = 1.0 / (1.0 + np.exp(-z_12))\n",
    "print(\"The activation of the first node in the hidden layer is {}\".format(a11))\n",
    "print(\"The activation of the second node in the hidden layer is {}\".format(a12))"
   ],
   "id": "af26248118526f29",
   "outputs": [
    {
     "name": "stdout",
     "output_type": "stream",
     "text": [
      "The activation of the first node in the hidden layer is 0.7467777394424666\n",
      "The activation of the second node in the hidden layer is 0.7844009715249141\n"
     ]
    }
   ],
   "execution_count": 9
  },
  {
   "metadata": {
    "ExecuteTime": {
     "end_time": "2025-06-17T06:50:16.495062Z",
     "start_time": "2025-06-17T06:50:16.490496Z"
    }
   },
   "cell_type": "code",
   "source": [
    "z2 = a11 * weights[4] + a12 * weights[5] + biases[2]\n",
    "a2 = 1.0 / (1.0 + np.exp(-z2))\n",
    "print(\"The weighted sum of the inputs at the output node is {}\".format(z2))"
   ],
   "id": "adb175ce0db6d5af",
   "outputs": [
    {
     "name": "stdout",
     "output_type": "stream",
     "text": [
      "The weighted sum of the inputs at the output node is 1.8218819666992314\n"
     ]
    }
   ],
   "execution_count": 10
  },
  {
   "metadata": {},
   "cell_type": "code",
   "outputs": [],
   "execution_count": null,
   "source": "",
   "id": "73a2a34ea3e92dc0"
  }
 ],
 "metadata": {
  "kernelspec": {
   "display_name": "Python 3",
   "language": "python",
   "name": "python3"
  },
  "language_info": {
   "codemirror_mode": {
    "name": "ipython",
    "version": 2
   },
   "file_extension": ".py",
   "mimetype": "text/x-python",
   "name": "python",
   "nbconvert_exporter": "python",
   "pygments_lexer": "ipython2",
   "version": "2.7.6"
  }
 },
 "nbformat": 4,
 "nbformat_minor": 5
}

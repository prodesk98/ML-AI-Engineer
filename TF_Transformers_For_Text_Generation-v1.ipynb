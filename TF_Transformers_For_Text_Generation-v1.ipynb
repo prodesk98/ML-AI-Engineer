{
 "cells": [
  {
   "cell_type": "code",
   "id": "initial_id",
   "metadata": {
    "collapsed": true
   },
   "source": [
    "import tensorflow as tf\n",
    "import numpy as np\n",
    "from tensorflow.keras.layers import TextVectorization\n",
    "from tensorflow.keras.utils import get_file"
   ],
   "outputs": [],
   "execution_count": null
  },
  {
   "metadata": {
    "ExecuteTime": {
     "end_time": "2025-06-21T15:41:51.482455Z",
     "start_time": "2025-06-21T15:41:51.477427Z"
    }
   },
   "cell_type": "code",
   "source": [
    "path_to_file = get_file('shakespeare.txt', 'https://storage.googleapis.com/download.tensorflow.org/data/shakespeare.txt')\n",
    "text_ = open(path_to_file, 'rb').read().decode()\n",
    "\n",
    "print(text_[:1000])"
   ],
   "id": "4192db2be0da2211",
   "outputs": [
    {
     "name": "stdout",
     "output_type": "stream",
     "text": [
      "First Citizen:\n",
      "Before we proceed any further, hear me speak.\n",
      "\n",
      "All:\n",
      "Speak, speak.\n",
      "\n",
      "First Citizen:\n",
      "You are all resolved rather to die than to famish?\n",
      "\n",
      "All:\n",
      "Resolved. resolved.\n",
      "\n",
      "First Citizen:\n",
      "First, you know Caius Marcius is chief enemy to the people.\n",
      "\n",
      "All:\n",
      "We know't, we know't.\n",
      "\n",
      "First Citizen:\n",
      "Let us kill him, and we'll have corn at our own price.\n",
      "Is't a verdict?\n",
      "\n",
      "All:\n",
      "No more talking on't; let it be done: away, away!\n",
      "\n",
      "Second Citizen:\n",
      "One word, good citizens.\n",
      "\n",
      "First Citizen:\n",
      "We are accounted poor citizens, the patricians good.\n",
      "What authority surfeits on would relieve us: if they\n",
      "would yield us but the superfluity, while it were\n",
      "wholesome, we might guess they relieved us humanely;\n",
      "but they think we are too dear: the leanness that\n",
      "afflicts us, the object of our misery, is as an\n",
      "inventory to particularise their abundance; our\n",
      "sufferance is a gain to them Let us revenge this with\n",
      "our pikes, ere we become rakes: for the gods know I\n",
      "speak this in hunger for bread, not in thirst for revenge.\n",
      "\n",
      "\n"
     ]
    }
   ],
   "execution_count": 4
  },
  {
   "metadata": {
    "ExecuteTime": {
     "end_time": "2025-06-21T15:55:11.648791Z",
     "start_time": "2025-06-21T15:55:11.549099Z"
    }
   },
   "cell_type": "code",
   "source": [
    "vocab_size_ = 10_000\n",
    "seq_length_ = 100\n",
    "\n",
    "# Adapt TextVectorization to full text\n",
    "vectorizer = TextVectorization(max_tokens=vocab_size_, output_mode='int')\n",
    "text_ds = tf.data.Dataset.from_tensor_slices([text_]).batch(1)\n",
    "vectorizer.adapt(text_ds)\n",
    "\n",
    "# Vectorize the text\n",
    "vectorized_text = vectorizer([text_])[0]\n",
    "print(\"Vectorized text shape:\", vectorized_text.shape)\n",
    "print(\"First 10 vectorized tokens:\", vectorized_text.numpy()[:10])"
   ],
   "id": "192e9cc9861bf686",
   "outputs": [
    {
     "name": "stdout",
     "output_type": "stream",
     "text": [
      "Vectorized text shape: (202646,)\n",
      "First 10 vectorized tokens: [ 89 270 138  36 982 144 673 125  16 106]\n"
     ]
    }
   ],
   "execution_count": 8
  },
  {
   "metadata": {
    "ExecuteTime": {
     "end_time": "2025-06-21T16:57:00.169248Z",
     "start_time": "2025-06-21T16:56:59.574087Z"
    }
   },
   "cell_type": "code",
   "source": [
    "def create_sequences(tokens, seq_length):\n",
    "    input_seqs = []\n",
    "    target_seqs = []\n",
    "    for i in range(len(tokens) - seq_length):\n",
    "        input_seqs.append(tokens[i:i + seq_length])\n",
    "        target_seqs.append(tokens[i + 1:i + seq_length + 1])\n",
    "    return np.array(input_seqs), np.array(target_seqs)\n",
    "\n",
    "X, y = create_sequences(vectorized_text.numpy(), seq_length_)\n",
    "\n",
    "print(\"Number of sequences generated:\", len(X))\n",
    "print(\"Sample input sequence:\", X[0] if len(X) > 0 else \"No sequences generated\")\n",
    "\n",
    "assert X.size > 0, \"Input data X is empty\"\n",
    "assert y.size > 0, \"Input data y is empty\"\n",
    "X = tf.convert_to_tensor(X)\n",
    "y = tf.convert_to_tensor(y)\n",
    "print(\"Shape of X:\", X.shape)\n",
    "print(\"Shape of y:\", y.shape)"
   ],
   "id": "b906cc98296c5542",
   "outputs": [
    {
     "name": "stdout",
     "output_type": "stream",
     "text": [
      "Number of sequences generated: 202546\n",
      "Sample input sequence: [  89  270  138   36  982  144  673  125   16  106   34  106  106   89\n",
      "  270    7   41   34 1286  344    4  200   64    4 3690   34 1286 1286\n",
      "   89  270   89    7   93 1187  225   12 2442  592    4    2  307   34\n",
      "   36 2655   36 2655   89  270   72   79  506   27    3   56   24 1390\n",
      "   57   40  161 2328  644    9 4980   34   32   54 2863  885   72   17\n",
      "   18  163  146  146  165  270   74  218   46  595   89  270   36   41\n",
      " 6739  172  595    2 1780   46   29 1323 5151   47   58 4151   79   39\n",
      "   60   58]\n",
      "Shape of X: (202546, 100)\n",
      "Shape of y: (202546, 100)\n"
     ]
    }
   ],
   "execution_count": 83
  },
  {
   "metadata": {},
   "cell_type": "markdown",
   "source": "### Implement Transformer Block",
   "id": "9d990d9d187dbb53"
  },
  {
   "metadata": {
    "ExecuteTime": {
     "end_time": "2025-06-21T16:57:13.441476Z",
     "start_time": "2025-06-21T16:57:13.434779Z"
    }
   },
   "cell_type": "code",
   "source": [
    "from tensorflow.keras.layers import Embedding, MultiHeadAttention, Dense, LayerNormalization, Dropout\n",
    "from tensorflow.keras.models import Model\n",
    "\n",
    "class TransformerBlock(tf.keras.layers.Layer):\n",
    "    def __init__(self, embed_dim, num_heads, ff_dim, rate=0.1):\n",
    "        super(TransformerBlock, self).__init__()\n",
    "        self.attn = MultiHeadAttention(num_heads=num_heads, key_dim=embed_dim)\n",
    "        self.ffn = tf.keras.Sequential([\n",
    "            Dense(ff_dim, activation=\"relu\"),\n",
    "            Dense(embed_dim),\n",
    "        ])\n",
    "        self.layernorm1 = LayerNormalization(epsilon=1e-6)\n",
    "        self.layernorm2 = LayerNormalization(epsilon=1e-6)\n",
    "        self.dropout1 = Dropout(rate)\n",
    "        self.dropout2 = Dropout(rate)\n",
    "\n",
    "    def call(self, inputs, training=False):\n",
    "        attn_output = self.attn(inputs, inputs)\n",
    "        attn_output = self.dropout1(attn_output, training=training)\n",
    "        out1 = self.layernorm1(inputs + attn_output)\n",
    "        ffn_output = self.ffn(out1)\n",
    "        ffn_output = self.dropout2(ffn_output, training=training)\n",
    "        return self.layernorm2(out1 + ffn_output)"
   ],
   "id": "e6b9a5421f752a5c",
   "outputs": [],
   "execution_count": 85
  },
  {
   "metadata": {},
   "cell_type": "markdown",
   "source": "### Implement Transformer Model",
   "id": "60d7c7fa33ad1e37"
  },
  {
   "metadata": {
    "ExecuteTime": {
     "end_time": "2025-06-21T16:57:15.537974Z",
     "start_time": "2025-06-21T16:57:15.531289Z"
    }
   },
   "cell_type": "code",
   "source": [
    "class TransformerModel(Model):\n",
    "    def __init__(self, vocab_size, embed_dim, num_heads, ff_dim, num_layers, seq_length, rate=0.1):\n",
    "        super(TransformerModel, self).__init__()\n",
    "        self.vocab_size = vocab_size\n",
    "        self.embedding = Embedding(vocab_size, embed_dim)\n",
    "        self.pos_encoding = self.positional_encoding(seq_length, embed_dim)\n",
    "        self.transformer_blocks = [\n",
    "            TransformerBlock(embed_dim, num_heads, ff_dim, rate=rate)\n",
    "            for _ in range(num_layers)\n",
    "        ]\n",
    "        self.dense = Dense(vocab_size)\n",
    "\n",
    "    def positional_encoding(self, seq_length, embed_dim):\n",
    "        angle_rads = self.get_angles(np.arange(seq_length)[:, np.newaxis], np.arange(embed_dim)[np.newaxis, :], embed_dim)\n",
    "        angle_rads[:, 0::2] = np.sin(angle_rads[:, 0::2])\n",
    "        angle_rads[:, 1::2] = np.cos(angle_rads[:, 1::2])\n",
    "        pos_encoding = angle_rads[np.newaxis, ...]\n",
    "        return tf.cast(pos_encoding, dtype=tf.float32)\n",
    "\n",
    "    def get_angles(self, pos, i, embed_dim):\n",
    "        angle_rates = 1 / np.power(self.vocab_size, (2 * (i // 2)) / np.float32(embed_dim))\n",
    "        return pos * angle_rates\n",
    "\n",
    "    def call(self, inputs, training=False):\n",
    "        if len(inputs.shape) < 2:\n",
    "            raise ValueError(\"inputs must be a vectorized tensor\")\n",
    "        seq_len = tf.shape(inputs)[1]\n",
    "        x = self.embedding(inputs)\n",
    "        x += self.pos_encoding[:, :seq_len, :]\n",
    "        for transformer_block in self.transformer_blocks:\n",
    "            x = transformer_block(x, training=training)\n",
    "        return self.dense(x)"
   ],
   "id": "742eb4959dfa2c87",
   "outputs": [],
   "execution_count": 86
  },
  {
   "metadata": {
    "ExecuteTime": {
     "end_time": "2025-06-21T16:57:18.186645Z",
     "start_time": "2025-06-21T16:57:17.384235Z"
    }
   },
   "cell_type": "code",
   "source": [
    "embed_dim_ = 256\n",
    "num_heads_ = 8\n",
    "ff_dim_ = 512\n",
    "num_layers_ = 4\n",
    "\n",
    "# Build the Transformer model\n",
    "model = TransformerModel(vocab_size_, embed_dim_, num_heads_, ff_dim_, num_layers_, seq_length_)\n",
    "\n",
    "# Provide input shape to build the model by passing a dummy input with maxval specified\n",
    "_ = model(tf.random.uniform((1, seq_length_), maxval=vocab_size_, dtype=tf.int32))\n",
    "\n",
    "# Compile the model\n",
    "model.compile(optimizer='adam', loss='sparse_categorical_crossentropy')\n",
    "model.summary()"
   ],
   "id": "c1a4b00ee55467f7",
   "outputs": [
    {
     "data": {
      "text/plain": [
       "\u001B[1mModel: \"transformer_model_17\"\u001B[0m\n"
      ],
      "text/html": [
       "<pre style=\"white-space:pre;overflow-x:auto;line-height:normal;font-family:Menlo,'DejaVu Sans Mono',consolas,'Courier New',monospace\"><span style=\"font-weight: bold\">Model: \"transformer_model_17\"</span>\n",
       "</pre>\n"
      ]
     },
     "metadata": {},
     "output_type": "display_data"
    },
    {
     "data": {
      "text/plain": [
       "┏━━━━━━━━━━━━━━━━━━━━━━━━━━━━━━━━━┳━━━━━━━━━━━━━━━━━━━━━━━━┳━━━━━━━━━━━━━━━┓\n",
       "┃\u001B[1m \u001B[0m\u001B[1mLayer (type)                   \u001B[0m\u001B[1m \u001B[0m┃\u001B[1m \u001B[0m\u001B[1mOutput Shape          \u001B[0m\u001B[1m \u001B[0m┃\u001B[1m \u001B[0m\u001B[1m      Param #\u001B[0m\u001B[1m \u001B[0m┃\n",
       "┡━━━━━━━━━━━━━━━━━━━━━━━━━━━━━━━━━╇━━━━━━━━━━━━━━━━━━━━━━━━╇━━━━━━━━━━━━━━━┩\n",
       "│ embedding_17 (\u001B[38;5;33mEmbedding\u001B[0m)        │ (\u001B[38;5;34m1\u001B[0m, \u001B[38;5;34m100\u001B[0m, \u001B[38;5;34m256\u001B[0m)          │     \u001B[38;5;34m2,560,000\u001B[0m │\n",
       "├─────────────────────────────────┼────────────────────────┼───────────────┤\n",
       "│ transformer_block_68            │ ?                      │     \u001B[38;5;34m2,367,488\u001B[0m │\n",
       "│ (\u001B[38;5;33mTransformerBlock\u001B[0m)              │                        │               │\n",
       "├─────────────────────────────────┼────────────────────────┼───────────────┤\n",
       "│ transformer_block_69            │ ?                      │     \u001B[38;5;34m2,367,488\u001B[0m │\n",
       "│ (\u001B[38;5;33mTransformerBlock\u001B[0m)              │                        │               │\n",
       "├─────────────────────────────────┼────────────────────────┼───────────────┤\n",
       "│ transformer_block_70            │ ?                      │     \u001B[38;5;34m2,367,488\u001B[0m │\n",
       "│ (\u001B[38;5;33mTransformerBlock\u001B[0m)              │                        │               │\n",
       "├─────────────────────────────────┼────────────────────────┼───────────────┤\n",
       "│ transformer_block_71            │ ?                      │     \u001B[38;5;34m2,367,488\u001B[0m │\n",
       "│ (\u001B[38;5;33mTransformerBlock\u001B[0m)              │                        │               │\n",
       "├─────────────────────────────────┼────────────────────────┼───────────────┤\n",
       "│ dense_161 (\u001B[38;5;33mDense\u001B[0m)               │ (\u001B[38;5;34m1\u001B[0m, \u001B[38;5;34m100\u001B[0m, \u001B[38;5;34m10000\u001B[0m)        │     \u001B[38;5;34m2,570,000\u001B[0m │\n",
       "└─────────────────────────────────┴────────────────────────┴───────────────┘\n"
      ],
      "text/html": [
       "<pre style=\"white-space:pre;overflow-x:auto;line-height:normal;font-family:Menlo,'DejaVu Sans Mono',consolas,'Courier New',monospace\">┏━━━━━━━━━━━━━━━━━━━━━━━━━━━━━━━━━┳━━━━━━━━━━━━━━━━━━━━━━━━┳━━━━━━━━━━━━━━━┓\n",
       "┃<span style=\"font-weight: bold\"> Layer (type)                    </span>┃<span style=\"font-weight: bold\"> Output Shape           </span>┃<span style=\"font-weight: bold\">       Param # </span>┃\n",
       "┡━━━━━━━━━━━━━━━━━━━━━━━━━━━━━━━━━╇━━━━━━━━━━━━━━━━━━━━━━━━╇━━━━━━━━━━━━━━━┩\n",
       "│ embedding_17 (<span style=\"color: #0087ff; text-decoration-color: #0087ff\">Embedding</span>)        │ (<span style=\"color: #00af00; text-decoration-color: #00af00\">1</span>, <span style=\"color: #00af00; text-decoration-color: #00af00\">100</span>, <span style=\"color: #00af00; text-decoration-color: #00af00\">256</span>)          │     <span style=\"color: #00af00; text-decoration-color: #00af00\">2,560,000</span> │\n",
       "├─────────────────────────────────┼────────────────────────┼───────────────┤\n",
       "│ transformer_block_68            │ ?                      │     <span style=\"color: #00af00; text-decoration-color: #00af00\">2,367,488</span> │\n",
       "│ (<span style=\"color: #0087ff; text-decoration-color: #0087ff\">TransformerBlock</span>)              │                        │               │\n",
       "├─────────────────────────────────┼────────────────────────┼───────────────┤\n",
       "│ transformer_block_69            │ ?                      │     <span style=\"color: #00af00; text-decoration-color: #00af00\">2,367,488</span> │\n",
       "│ (<span style=\"color: #0087ff; text-decoration-color: #0087ff\">TransformerBlock</span>)              │                        │               │\n",
       "├─────────────────────────────────┼────────────────────────┼───────────────┤\n",
       "│ transformer_block_70            │ ?                      │     <span style=\"color: #00af00; text-decoration-color: #00af00\">2,367,488</span> │\n",
       "│ (<span style=\"color: #0087ff; text-decoration-color: #0087ff\">TransformerBlock</span>)              │                        │               │\n",
       "├─────────────────────────────────┼────────────────────────┼───────────────┤\n",
       "│ transformer_block_71            │ ?                      │     <span style=\"color: #00af00; text-decoration-color: #00af00\">2,367,488</span> │\n",
       "│ (<span style=\"color: #0087ff; text-decoration-color: #0087ff\">TransformerBlock</span>)              │                        │               │\n",
       "├─────────────────────────────────┼────────────────────────┼───────────────┤\n",
       "│ dense_161 (<span style=\"color: #0087ff; text-decoration-color: #0087ff\">Dense</span>)               │ (<span style=\"color: #00af00; text-decoration-color: #00af00\">1</span>, <span style=\"color: #00af00; text-decoration-color: #00af00\">100</span>, <span style=\"color: #00af00; text-decoration-color: #00af00\">10000</span>)        │     <span style=\"color: #00af00; text-decoration-color: #00af00\">2,570,000</span> │\n",
       "└─────────────────────────────────┴────────────────────────┴───────────────┘\n",
       "</pre>\n"
      ]
     },
     "metadata": {},
     "output_type": "display_data"
    },
    {
     "data": {
      "text/plain": [
       "\u001B[1m Total params: \u001B[0m\u001B[38;5;34m14,599,952\u001B[0m (55.69 MB)\n"
      ],
      "text/html": [
       "<pre style=\"white-space:pre;overflow-x:auto;line-height:normal;font-family:Menlo,'DejaVu Sans Mono',consolas,'Courier New',monospace\"><span style=\"font-weight: bold\"> Total params: </span><span style=\"color: #00af00; text-decoration-color: #00af00\">14,599,952</span> (55.69 MB)\n",
       "</pre>\n"
      ]
     },
     "metadata": {},
     "output_type": "display_data"
    },
    {
     "data": {
      "text/plain": [
       "\u001B[1m Trainable params: \u001B[0m\u001B[38;5;34m14,599,952\u001B[0m (55.69 MB)\n"
      ],
      "text/html": [
       "<pre style=\"white-space:pre;overflow-x:auto;line-height:normal;font-family:Menlo,'DejaVu Sans Mono',consolas,'Courier New',monospace\"><span style=\"font-weight: bold\"> Trainable params: </span><span style=\"color: #00af00; text-decoration-color: #00af00\">14,599,952</span> (55.69 MB)\n",
       "</pre>\n"
      ]
     },
     "metadata": {},
     "output_type": "display_data"
    },
    {
     "data": {
      "text/plain": [
       "\u001B[1m Non-trainable params: \u001B[0m\u001B[38;5;34m0\u001B[0m (0.00 B)\n"
      ],
      "text/html": [
       "<pre style=\"white-space:pre;overflow-x:auto;line-height:normal;font-family:Menlo,'DejaVu Sans Mono',consolas,'Courier New',monospace\"><span style=\"font-weight: bold\"> Non-trainable params: </span><span style=\"color: #00af00; text-decoration-color: #00af00\">0</span> (0.00 B)\n",
       "</pre>\n"
      ]
     },
     "metadata": {},
     "output_type": "display_data"
    }
   ],
   "execution_count": 87
  },
  {
   "metadata": {
    "ExecuteTime": {
     "end_time": "2025-06-21T16:57:19.791378Z",
     "start_time": "2025-06-21T16:57:19.780302Z"
    }
   },
   "cell_type": "code",
   "source": [
    "X_train = X[:10000]\n",
    "y_train = y[:10000]\n",
    "\n",
    "print(\"Shape of X_train:\", X_train.shape)\n",
    "print(\"Shape of y_train:\", y_train.shape)"
   ],
   "id": "57d1789dd2d9844f",
   "outputs": [
    {
     "name": "stdout",
     "output_type": "stream",
     "text": [
      "Shape of X_train: (10000, 100)\n",
      "Shape of y_train: (10000, 100)\n"
     ]
    }
   ],
   "execution_count": 88
  },
  {
   "metadata": {
    "ExecuteTime": {
     "end_time": "2025-06-21T17:18:27.120482Z",
     "start_time": "2025-06-21T16:57:21.773986Z"
    }
   },
   "cell_type": "code",
   "source": [
    "import matplotlib.pyplot as plt\n",
    "from tensorflow.keras.callbacks import EarlyStopping\n",
    "\n",
    "# Early stopping to stop training if the loss doesn't improve\n",
    "early_stopping = EarlyStopping(monitor='loss', patience=2, restore_best_weights=True)\n",
    "\n",
    "# Train the transformer model on th e full input and targets sequences\n",
    "hist = model.fit(X_train, y_train, epochs=2, batch_size=32, callbacks=[early_stopping])"
   ],
   "id": "ad6a3a49dddaaa24",
   "outputs": [
    {
     "name": "stdout",
     "output_type": "stream",
     "text": [
      "Epoch 1/2\n",
      "\u001B[1m313/313\u001B[0m \u001B[32m━━━━━━━━━━━━━━━━━━━━\u001B[0m\u001B[37m\u001B[0m \u001B[1m657s\u001B[0m 2s/step - loss: 10.7454\n",
      "Epoch 2/2\n",
      "\u001B[1m313/313\u001B[0m \u001B[32m━━━━━━━━━━━━━━━━━━━━\u001B[0m\u001B[37m\u001B[0m \u001B[1m609s\u001B[0m 2s/step - loss: 10.8635\n"
     ]
    }
   ],
   "execution_count": 89
  },
  {
   "metadata": {
    "ExecuteTime": {
     "end_time": "2025-06-21T17:23:39.486350Z",
     "start_time": "2025-06-21T17:23:39.316091Z"
    }
   },
   "cell_type": "code",
   "source": [
    "plt.plot(hist.history['loss'])\n",
    "plt.xlabel('Epoch')\n",
    "plt.ylabel('Loss')\n",
    "plt.title('Training Loss')\n",
    "plt.show()"
   ],
   "id": "416133c4a6768789",
   "outputs": [
    {
     "data": {
      "text/plain": [
       "<Figure size 640x480 with 1 Axes>"
      ],
      "image/png": "[encoded data removed]"
     },
     "metadata": {},
     "output_type": "display_data"
    }
   ],
   "execution_count": 90
  }
 ],
 "metadata": {
  "kernelspec": {
   "display_name": "Python 3 (ipykernel)",
   "language": "python",
   "name": "python3"
  },
  "language_info": {
   "codemirror_mode": {
    "name": "ipython",
    "version": 2
   },
   "file_extension": ".py",
   "mimetype": "text/x-python",
   "name": "python",
   "nbconvert_exporter": "python",
   "pygments_lexer": "ipython2",
   "version": "2.7.6"
  }
 },
 "nbformat": 4,
 "nbformat_minor": 5
}
